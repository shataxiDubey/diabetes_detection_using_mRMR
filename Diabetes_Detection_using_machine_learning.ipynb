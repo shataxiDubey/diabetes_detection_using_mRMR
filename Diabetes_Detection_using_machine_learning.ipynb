{
 "cells": [
  {
   "cell_type": "code",
   "execution_count": 1,
   "id": "ff171f4d",
   "metadata": {},
   "outputs": [
    {
     "name": "stdout",
     "output_type": "stream",
     "text": [
      "Index(['Pregnancies', 'Glucose', 'BloodPressure', 'SkinThickness', 'Insulin',\n",
      "       'BMI', 'DiabetesPedigreeFunction', 'Age', 'Outcome'],\n",
      "      dtype='object')\n"
     ]
    }
   ],
   "source": [
    "import numpy as np\n",
    "import pandas as pd\n",
    "import matplotlib.pyplot as plt\n",
    "dataset=pd.read_csv('./diabetes.csv')\n",
    "print(dataset.columns)    "
   ]
  },
  {
   "cell_type": "code",
   "execution_count": 2,
   "id": "b1fb13f2",
   "metadata": {},
   "outputs": [
    {
     "data": {
      "text/html": [
       "<div>\n",
       "<style scoped>\n",
       "    .dataframe tbody tr th:only-of-type {\n",
       "        vertical-align: middle;\n",
       "    }\n",
       "\n",
       "    .dataframe tbody tr th {\n",
       "        vertical-align: top;\n",
       "    }\n",
       "\n",
       "    .dataframe thead th {\n",
       "        text-align: right;\n",
       "    }\n",
       "</style>\n",
       "<table border=\"1\" class=\"dataframe\">\n",
       "  <thead>\n",
       "    <tr style=\"text-align: right;\">\n",
       "      <th></th>\n",
       "      <th>Pregnancies</th>\n",
       "      <th>Glucose</th>\n",
       "      <th>BloodPressure</th>\n",
       "      <th>SkinThickness</th>\n",
       "      <th>Insulin</th>\n",
       "      <th>BMI</th>\n",
       "      <th>DiabetesPedigreeFunction</th>\n",
       "      <th>Age</th>\n",
       "      <th>Outcome</th>\n",
       "    </tr>\n",
       "  </thead>\n",
       "  <tbody>\n",
       "    <tr>\n",
       "      <th>0</th>\n",
       "      <td>6</td>\n",
       "      <td>148</td>\n",
       "      <td>72</td>\n",
       "      <td>35</td>\n",
       "      <td>0</td>\n",
       "      <td>33.6</td>\n",
       "      <td>0.627</td>\n",
       "      <td>50</td>\n",
       "      <td>1</td>\n",
       "    </tr>\n",
       "    <tr>\n",
       "      <th>1</th>\n",
       "      <td>1</td>\n",
       "      <td>85</td>\n",
       "      <td>66</td>\n",
       "      <td>29</td>\n",
       "      <td>0</td>\n",
       "      <td>26.6</td>\n",
       "      <td>0.351</td>\n",
       "      <td>31</td>\n",
       "      <td>0</td>\n",
       "    </tr>\n",
       "    <tr>\n",
       "      <th>2</th>\n",
       "      <td>8</td>\n",
       "      <td>183</td>\n",
       "      <td>64</td>\n",
       "      <td>0</td>\n",
       "      <td>0</td>\n",
       "      <td>23.3</td>\n",
       "      <td>0.672</td>\n",
       "      <td>32</td>\n",
       "      <td>1</td>\n",
       "    </tr>\n",
       "    <tr>\n",
       "      <th>3</th>\n",
       "      <td>1</td>\n",
       "      <td>89</td>\n",
       "      <td>66</td>\n",
       "      <td>23</td>\n",
       "      <td>94</td>\n",
       "      <td>28.1</td>\n",
       "      <td>0.167</td>\n",
       "      <td>21</td>\n",
       "      <td>0</td>\n",
       "    </tr>\n",
       "    <tr>\n",
       "      <th>4</th>\n",
       "      <td>0</td>\n",
       "      <td>137</td>\n",
       "      <td>40</td>\n",
       "      <td>35</td>\n",
       "      <td>168</td>\n",
       "      <td>43.1</td>\n",
       "      <td>2.288</td>\n",
       "      <td>33</td>\n",
       "      <td>1</td>\n",
       "    </tr>\n",
       "  </tbody>\n",
       "</table>\n",
       "</div>"
      ],
      "text/plain": [
       "   Pregnancies  Glucose  BloodPressure  SkinThickness  Insulin   BMI  \\\n",
       "0            6      148             72             35        0  33.6   \n",
       "1            1       85             66             29        0  26.6   \n",
       "2            8      183             64              0        0  23.3   \n",
       "3            1       89             66             23       94  28.1   \n",
       "4            0      137             40             35      168  43.1   \n",
       "\n",
       "   DiabetesPedigreeFunction  Age  Outcome  \n",
       "0                     0.627   50        1  \n",
       "1                     0.351   31        0  \n",
       "2                     0.672   32        1  \n",
       "3                     0.167   21        0  \n",
       "4                     2.288   33        1  "
      ]
     },
     "execution_count": 2,
     "metadata": {},
     "output_type": "execute_result"
    }
   ],
   "source": [
    "dataset.head()"
   ]
  },
  {
   "cell_type": "code",
   "execution_count": 3,
   "id": "0af10974",
   "metadata": {},
   "outputs": [
    {
     "name": "stdout",
     "output_type": "stream",
     "text": [
      "Dimension of diabetes data : (768, 9)\n"
     ]
    }
   ],
   "source": [
    "print(\"Dimension of diabetes data : {}\".format(dataset.shape))"
   ]
  },
  {
   "cell_type": "code",
   "execution_count": 4,
   "id": "86a845a0",
   "metadata": {},
   "outputs": [
    {
     "name": "stdout",
     "output_type": "stream",
     "text": [
      "Outcome\n",
      "0    500\n",
      "1    268\n",
      "dtype: int64\n"
     ]
    }
   ],
   "source": [
    "print(dataset.groupby('Outcome').size())"
   ]
  },
  {
   "cell_type": "code",
   "execution_count": 2,
   "id": "c00ba3a5",
   "metadata": {},
   "outputs": [
    {
     "name": "stderr",
     "output_type": "stream",
     "text": [
      "C:\\Users\\Hp\\anaconda3\\lib\\site-packages\\seaborn\\_decorators.py:36: FutureWarning: Pass the following variable as a keyword arg: x. From version 0.12, the only valid positional argument will be `data`, and passing other arguments without an explicit keyword will result in an error or misinterpretation.\n",
      "  warnings.warn(\n"
     ]
    },
    {
     "data": {
      "text/plain": [
       "<AxesSubplot:xlabel='Outcome', ylabel='count'>"
      ]
     },
     "execution_count": 2,
     "metadata": {},
     "output_type": "execute_result"
    },
    {
     "data": {
      "image/png": "[encoded data removed]",
      "text/plain": [
       "<Figure size 432x288 with 1 Axes>"
      ]
     },
     "metadata": {
      "needs_background": "light"
     },
     "output_type": "display_data"
    }
   ],
   "source": [
    "import seaborn as sns\n",
    "sns.countplot(dataset['Outcome'],label=\"count\")"
   ]
  },
  {
   "cell_type": "code",
   "execution_count": 5,
   "id": "313dc06c",
   "metadata": {},
   "outputs": [
    {
     "name": "stdout",
     "output_type": "stream",
     "text": [
      "<class 'pandas.core.frame.DataFrame'>\n",
      "RangeIndex: 768 entries, 0 to 767\n",
      "Data columns (total 9 columns):\n",
      " #   Column                    Non-Null Count  Dtype  \n",
      "---  ------                    --------------  -----  \n",
      " 0   Pregnancies               768 non-null    int64  \n",
      " 1   Glucose                   768 non-null    int64  \n",
      " 2   BloodPressure             768 non-null    int64  \n",
      " 3   SkinThickness             768 non-null    int64  \n",
      " 4   Insulin                   768 non-null    int64  \n",
      " 5   BMI                       768 non-null    float64\n",
      " 6   DiabetesPedigreeFunction  768 non-null    float64\n",
      " 7   Age                       768 non-null    int64  \n",
      " 8   Outcome                   768 non-null    int64  \n",
      "dtypes: float64(2), int64(7)\n",
      "memory usage: 54.1 KB\n"
     ]
    }
   ],
   "source": [
    "dataset.info()"
   ]
  },
  {
   "cell_type": "code",
   "execution_count": 6,
   "id": "3ae868dc",
   "metadata": {},
   "outputs": [
    {
     "data": {
      "text/html": [
       "<div>\n",
       "<style scoped>\n",
       "    .dataframe tbody tr th:only-of-type {\n",
       "        vertical-align: middle;\n",
       "    }\n",
       "\n",
       "    .dataframe tbody tr th {\n",
       "        vertical-align: top;\n",
       "    }\n",
       "\n",
       "    .dataframe thead th {\n",
       "        text-align: right;\n",
       "    }\n",
       "</style>\n",
       "<table border=\"1\" class=\"dataframe\">\n",
       "  <thead>\n",
       "    <tr style=\"text-align: right;\">\n",
       "      <th></th>\n",
       "      <th>Pregnancies</th>\n",
       "      <th>Glucose</th>\n",
       "      <th>BloodPressure</th>\n",
       "      <th>SkinThickness</th>\n",
       "      <th>Insulin</th>\n",
       "      <th>BMI</th>\n",
       "      <th>DiabetesPedigreeFunction</th>\n",
       "      <th>Age</th>\n",
       "      <th>Outcome</th>\n",
       "    </tr>\n",
       "  </thead>\n",
       "  <tbody>\n",
       "    <tr>\n",
       "      <th>count</th>\n",
       "      <td>768.000000</td>\n",
       "      <td>768.000000</td>\n",
       "      <td>768.000000</td>\n",
       "      <td>768.000000</td>\n",
       "      <td>768.000000</td>\n",
       "      <td>768.000000</td>\n",
       "      <td>768.000000</td>\n",
       "      <td>768.000000</td>\n",
       "      <td>768.000000</td>\n",
       "    </tr>\n",
       "    <tr>\n",
       "      <th>mean</th>\n",
       "      <td>3.845052</td>\n",
       "      <td>120.894531</td>\n",
       "      <td>69.105469</td>\n",
       "      <td>20.536458</td>\n",
       "      <td>79.799479</td>\n",
       "      <td>31.992578</td>\n",
       "      <td>0.471876</td>\n",
       "      <td>33.240885</td>\n",
       "      <td>0.348958</td>\n",
       "    </tr>\n",
       "    <tr>\n",
       "      <th>std</th>\n",
       "      <td>3.369578</td>\n",
       "      <td>31.972618</td>\n",
       "      <td>19.355807</td>\n",
       "      <td>15.952218</td>\n",
       "      <td>115.244002</td>\n",
       "      <td>7.884160</td>\n",
       "      <td>0.331329</td>\n",
       "      <td>11.760232</td>\n",
       "      <td>0.476951</td>\n",
       "    </tr>\n",
       "    <tr>\n",
       "      <th>min</th>\n",
       "      <td>0.000000</td>\n",
       "      <td>0.000000</td>\n",
       "      <td>0.000000</td>\n",
       "      <td>0.000000</td>\n",
       "      <td>0.000000</td>\n",
       "      <td>0.000000</td>\n",
       "      <td>0.078000</td>\n",
       "      <td>21.000000</td>\n",
       "      <td>0.000000</td>\n",
       "    </tr>\n",
       "    <tr>\n",
       "      <th>25%</th>\n",
       "      <td>1.000000</td>\n",
       "      <td>99.000000</td>\n",
       "      <td>62.000000</td>\n",
       "      <td>0.000000</td>\n",
       "      <td>0.000000</td>\n",
       "      <td>27.300000</td>\n",
       "      <td>0.243750</td>\n",
       "      <td>24.000000</td>\n",
       "      <td>0.000000</td>\n",
       "    </tr>\n",
       "    <tr>\n",
       "      <th>50%</th>\n",
       "      <td>3.000000</td>\n",
       "      <td>117.000000</td>\n",
       "      <td>72.000000</td>\n",
       "      <td>23.000000</td>\n",
       "      <td>30.500000</td>\n",
       "      <td>32.000000</td>\n",
       "      <td>0.372500</td>\n",
       "      <td>29.000000</td>\n",
       "      <td>0.000000</td>\n",
       "    </tr>\n",
       "    <tr>\n",
       "      <th>75%</th>\n",
       "      <td>6.000000</td>\n",
       "      <td>140.250000</td>\n",
       "      <td>80.000000</td>\n",
       "      <td>32.000000</td>\n",
       "      <td>127.250000</td>\n",
       "      <td>36.600000</td>\n",
       "      <td>0.626250</td>\n",
       "      <td>41.000000</td>\n",
       "      <td>1.000000</td>\n",
       "    </tr>\n",
       "    <tr>\n",
       "      <th>max</th>\n",
       "      <td>17.000000</td>\n",
       "      <td>199.000000</td>\n",
       "      <td>122.000000</td>\n",
       "      <td>99.000000</td>\n",
       "      <td>846.000000</td>\n",
       "      <td>67.100000</td>\n",
       "      <td>2.420000</td>\n",
       "      <td>81.000000</td>\n",
       "      <td>1.000000</td>\n",
       "    </tr>\n",
       "  </tbody>\n",
       "</table>\n",
       "</div>"
      ],
      "text/plain": [
       "       Pregnancies     Glucose  BloodPressure  SkinThickness     Insulin  \\\n",
       "count   768.000000  768.000000     768.000000     768.000000  768.000000   \n",
       "mean      3.845052  120.894531      69.105469      20.536458   79.799479   \n",
       "std       3.369578   31.972618      19.355807      15.952218  115.244002   \n",
       "min       0.000000    0.000000       0.000000       0.000000    0.000000   \n",
       "25%       1.000000   99.000000      62.000000       0.000000    0.000000   \n",
       "50%       3.000000  117.000000      72.000000      23.000000   30.500000   \n",
       "75%       6.000000  140.250000      80.000000      32.000000  127.250000   \n",
       "max      17.000000  199.000000     122.000000      99.000000  846.000000   \n",
       "\n",
       "              BMI  DiabetesPedigreeFunction         Age     Outcome  \n",
       "count  768.000000                768.000000  768.000000  768.000000  \n",
       "mean    31.992578                  0.471876   33.240885    0.348958  \n",
       "std      7.884160                  0.331329   11.760232    0.476951  \n",
       "min      0.000000                  0.078000   21.000000    0.000000  \n",
       "25%     27.300000                  0.243750   24.000000    0.000000  \n",
       "50%     32.000000                  0.372500   29.000000    0.000000  \n",
       "75%     36.600000                  0.626250   41.000000    1.000000  \n",
       "max     67.100000                  2.420000   81.000000    1.000000  "
      ]
     },
     "execution_count": 6,
     "metadata": {},
     "output_type": "execute_result"
    }
   ],
   "source": [
    "dataset.describe()"
   ]
  },
  {
   "cell_type": "code",
   "execution_count": 7,
   "id": "6a5714c4",
   "metadata": {},
   "outputs": [
    {
     "data": {
      "text/plain": [
       "Glucose                     0.107171\n",
       "Age                         0.094925\n",
       "BMI                         0.082757\n",
       "Insulin                     0.062655\n",
       "Pregnancies                 0.046839\n",
       "SkinThickness               0.020940\n",
       "DiabetesPedigreeFunction    0.009636\n",
       "BloodPressure               0.000000\n",
       "Name: MI Scores, dtype: float64"
      ]
     },
     "execution_count": 7,
     "metadata": {},
     "output_type": "execute_result"
    }
   ],
   "source": [
    "#mutual association of independent variables with dependent variable Outcome\n",
    "from sklearn.feature_selection import mutual_info_regression\n",
    "X=dataset.drop(\"Outcome\",axis=1)\n",
    "y=dataset['Outcome']\n",
    "#discrete_features=X.dtypes == int\n",
    "def make_mi_scores(X, y):\n",
    "    mi_scores = mutual_info_regression(X, y)\n",
    "    mi_scores = pd.Series(mi_scores, name=\"MI Scores\", index=X.columns)\n",
    "    mi_scores = mi_scores.sort_values(ascending=False)\n",
    "    return mi_scores\n",
    "\n",
    "mi_scores = make_mi_scores(X, y)\n",
    "mi_scores"
   ]
  },
  {
   "cell_type": "code",
   "execution_count": 8,
   "id": "f6c63bd3",
   "metadata": {},
   "outputs": [
    {
     "data": {
      "image/png": "[encoded data removed]",
      "text/plain": [
       "<Figure size 800x500 with 1 Axes>"
      ]
     },
     "metadata": {
      "needs_background": "light"
     },
     "output_type": "display_data"
    }
   ],
   "source": [
    "def plot_mi_scores(scores):\n",
    "    scores = scores.sort_values(ascending=True)\n",
    "    width = np.arange(len(scores))\n",
    "    ticks = list(scores.index)\n",
    "    plt.barh(width, scores)\n",
    "    plt.yticks(width, ticks)\n",
    "    plt.title(\"Mutual Information Scores\")\n",
    "\n",
    "\n",
    "plt.figure(dpi=100, figsize=(8, 5))\n",
    "plot_mi_scores(mi_scores)"
   ]
  },
  {
   "cell_type": "code",
   "execution_count": null,
   "id": "769fe00f",
   "metadata": {},
   "outputs": [],
   "source": [
    "import seaborn as sns\n",
    "sns.pairplot(dataset,hue='Outcome')"
   ]
  },
  {
   "cell_type": "code",
   "execution_count": 9,
   "id": "58dcecd2",
   "metadata": {},
   "outputs": [
    {
     "data": {
      "text/html": [
       "<style type=\"text/css\">\n",
       "#T_af867_row0_col0, #T_af867_row1_col1, #T_af867_row2_col2, #T_af867_row3_col3, #T_af867_row4_col4, #T_af867_row5_col5, #T_af867_row6_col6, #T_af867_row7_col7, #T_af867_row8_col8 {\n",
       "  background-color: #b40426;\n",
       "  color: #f1f1f1;\n",
       "}\n",
       "#T_af867_row0_col1 {\n",
       "  background-color: #516ddb;\n",
       "  color: #f1f1f1;\n",
       "}\n",
       "#T_af867_row0_col2 {\n",
       "  background-color: #5a78e4;\n",
       "  color: #f1f1f1;\n",
       "}\n",
       "#T_af867_row0_col3, #T_af867_row7_col4 {\n",
       "  background-color: #4358cb;\n",
       "  color: #f1f1f1;\n",
       "}\n",
       "#T_af867_row0_col4, #T_af867_row0_col5, #T_af867_row0_col6, #T_af867_row2_col8, #T_af867_row3_col0, #T_af867_row3_col1, #T_af867_row3_col7, #T_af867_row6_col2, #T_af867_row7_col3 {\n",
       "  background-color: #3b4cc0;\n",
       "  color: #f1f1f1;\n",
       "}\n",
       "#T_af867_row0_col7 {\n",
       "  background-color: #f1cdba;\n",
       "  color: #000000;\n",
       "}\n",
       "#T_af867_row0_col8, #T_af867_row1_col6 {\n",
       "  background-color: #6f92f3;\n",
       "  color: #f1f1f1;\n",
       "}\n",
       "#T_af867_row1_col0 {\n",
       "  background-color: #799cf8;\n",
       "  color: #f1f1f1;\n",
       "}\n",
       "#T_af867_row1_col2, #T_af867_row6_col8 {\n",
       "  background-color: #5e7de7;\n",
       "  color: #f1f1f1;\n",
       "}\n",
       "#T_af867_row1_col3 {\n",
       "  background-color: #6b8df0;\n",
       "  color: #f1f1f1;\n",
       "}\n",
       "#T_af867_row1_col4 {\n",
       "  background-color: #b9d0f9;\n",
       "  color: #000000;\n",
       "}\n",
       "#T_af867_row1_col5, #T_af867_row3_col6 {\n",
       "  background-color: #7ea1fa;\n",
       "  color: #f1f1f1;\n",
       "}\n",
       "#T_af867_row1_col7 {\n",
       "  background-color: #abc8fd;\n",
       "  color: #000000;\n",
       "}\n",
       "#T_af867_row1_col8 {\n",
       "  background-color: #c9d7f0;\n",
       "  color: #000000;\n",
       "}\n",
       "#T_af867_row2_col0, #T_af867_row7_col2 {\n",
       "  background-color: #7da0f9;\n",
       "  color: #f1f1f1;\n",
       "}\n",
       "#T_af867_row2_col1 {\n",
       "  background-color: #5977e3;\n",
       "  color: #f1f1f1;\n",
       "}\n",
       "#T_af867_row2_col3 {\n",
       "  background-color: #9abbff;\n",
       "  color: #000000;\n",
       "}\n",
       "#T_af867_row2_col4 {\n",
       "  background-color: #6a8bef;\n",
       "  color: #f1f1f1;\n",
       "}\n",
       "#T_af867_row2_col5, #T_af867_row6_col3 {\n",
       "  background-color: #93b5fe;\n",
       "  color: #000000;\n",
       "}\n",
       "#T_af867_row2_col6 {\n",
       "  background-color: #506bda;\n",
       "  color: #f1f1f1;\n",
       "}\n",
       "#T_af867_row2_col7 {\n",
       "  background-color: #a5c3fe;\n",
       "  color: #000000;\n",
       "}\n",
       "#T_af867_row3_col2, #T_af867_row5_col1 {\n",
       "  background-color: #7295f4;\n",
       "  color: #f1f1f1;\n",
       "}\n",
       "#T_af867_row3_col4 {\n",
       "  background-color: #d6dce4;\n",
       "  color: #000000;\n",
       "}\n",
       "#T_af867_row3_col5 {\n",
       "  background-color: #bad0f8;\n",
       "  color: #000000;\n",
       "}\n",
       "#T_af867_row3_col8 {\n",
       "  background-color: #3d50c3;\n",
       "  color: #f1f1f1;\n",
       "}\n",
       "#T_af867_row4_col0 {\n",
       "  background-color: #3c4ec2;\n",
       "  color: #f1f1f1;\n",
       "}\n",
       "#T_af867_row4_col1 {\n",
       "  background-color: #9bbcff;\n",
       "  color: #000000;\n",
       "}\n",
       "#T_af867_row4_col2 {\n",
       "  background-color: #4961d2;\n",
       "  color: #f1f1f1;\n",
       "}\n",
       "#T_af867_row4_col3 {\n",
       "  background-color: #dbdcde;\n",
       "  color: #000000;\n",
       "}\n",
       "#T_af867_row4_col5 {\n",
       "  background-color: #7597f6;\n",
       "  color: #f1f1f1;\n",
       "}\n",
       "#T_af867_row4_col6 {\n",
       "  background-color: #80a3fa;\n",
       "  color: #f1f1f1;\n",
       "}\n",
       "#T_af867_row4_col7, #T_af867_row7_col6 {\n",
       "  background-color: #4e68d8;\n",
       "  color: #f1f1f1;\n",
       "}\n",
       "#T_af867_row4_col8 {\n",
       "  background-color: #4f69d9;\n",
       "  color: #f1f1f1;\n",
       "}\n",
       "#T_af867_row5_col0 {\n",
       "  background-color: #5673e0;\n",
       "  color: #f1f1f1;\n",
       "}\n",
       "#T_af867_row5_col2, #T_af867_row5_col4 {\n",
       "  background-color: #8db0fe;\n",
       "  color: #000000;\n",
       "}\n",
       "#T_af867_row5_col3 {\n",
       "  background-color: #d1dae9;\n",
       "  color: #000000;\n",
       "}\n",
       "#T_af867_row5_col6, #T_af867_row8_col3 {\n",
       "  background-color: #7093f3;\n",
       "  color: #f1f1f1;\n",
       "}\n",
       "#T_af867_row5_col7 {\n",
       "  background-color: #6485ec;\n",
       "  color: #f1f1f1;\n",
       "}\n",
       "#T_af867_row5_col8 {\n",
       "  background-color: #8badfd;\n",
       "  color: #000000;\n",
       "}\n",
       "#T_af867_row6_col0 {\n",
       "  background-color: #485fd1;\n",
       "  color: #f1f1f1;\n",
       "}\n",
       "#T_af867_row6_col1 {\n",
       "  background-color: #5470de;\n",
       "  color: #f1f1f1;\n",
       "}\n",
       "#T_af867_row6_col4 {\n",
       "  background-color: #89acfd;\n",
       "  color: #000000;\n",
       "}\n",
       "#T_af867_row6_col5 {\n",
       "  background-color: #6282ea;\n",
       "  color: #f1f1f1;\n",
       "}\n",
       "#T_af867_row6_col7 {\n",
       "  background-color: #6384eb;\n",
       "  color: #f1f1f1;\n",
       "}\n",
       "#T_af867_row7_col0 {\n",
       "  background-color: #efcfbf;\n",
       "  color: #000000;\n",
       "}\n",
       "#T_af867_row7_col1 {\n",
       "  background-color: #81a4fb;\n",
       "  color: #f1f1f1;\n",
       "}\n",
       "#T_af867_row7_col5 {\n",
       "  background-color: #3f53c6;\n",
       "  color: #f1f1f1;\n",
       "}\n",
       "#T_af867_row7_col8 {\n",
       "  background-color: #7699f6;\n",
       "  color: #f1f1f1;\n",
       "}\n",
       "#T_af867_row8_col0, #T_af867_row8_col5 {\n",
       "  background-color: #97b8ff;\n",
       "  color: #000000;\n",
       "}\n",
       "#T_af867_row8_col1 {\n",
       "  background-color: #cbd8ee;\n",
       "  color: #000000;\n",
       "}\n",
       "#T_af867_row8_col2 {\n",
       "  background-color: #4257c9;\n",
       "  color: #f1f1f1;\n",
       "}\n",
       "#T_af867_row8_col4 {\n",
       "  background-color: #779af7;\n",
       "  color: #f1f1f1;\n",
       "}\n",
       "#T_af867_row8_col6 {\n",
       "  background-color: #7b9ff9;\n",
       "  color: #f1f1f1;\n",
       "}\n",
       "#T_af867_row8_col7 {\n",
       "  background-color: #a3c2fe;\n",
       "  color: #000000;\n",
       "}\n",
       "</style>\n",
       "<table id=\"T_af867_\">\n",
       "  <thead>\n",
       "    <tr>\n",
       "      <th class=\"blank level0\" >&nbsp;</th>\n",
       "      <th class=\"col_heading level0 col0\" >Pregnancies</th>\n",
       "      <th class=\"col_heading level0 col1\" >Glucose</th>\n",
       "      <th class=\"col_heading level0 col2\" >BloodPressure</th>\n",
       "      <th class=\"col_heading level0 col3\" >SkinThickness</th>\n",
       "      <th class=\"col_heading level0 col4\" >Insulin</th>\n",
       "      <th class=\"col_heading level0 col5\" >BMI</th>\n",
       "      <th class=\"col_heading level0 col6\" >DiabetesPedigreeFunction</th>\n",
       "      <th class=\"col_heading level0 col7\" >Age</th>\n",
       "      <th class=\"col_heading level0 col8\" >Outcome</th>\n",
       "    </tr>\n",
       "  </thead>\n",
       "  <tbody>\n",
       "    <tr>\n",
       "      <th id=\"T_af867_level0_row0\" class=\"row_heading level0 row0\" >Pregnancies</th>\n",
       "      <td id=\"T_af867_row0_col0\" class=\"data row0 col0\" >1.000000</td>\n",
       "      <td id=\"T_af867_row0_col1\" class=\"data row0 col1\" >0.129459</td>\n",
       "      <td id=\"T_af867_row0_col2\" class=\"data row0 col2\" >0.141282</td>\n",
       "      <td id=\"T_af867_row0_col3\" class=\"data row0 col3\" >-0.081672</td>\n",
       "      <td id=\"T_af867_row0_col4\" class=\"data row0 col4\" >-0.073535</td>\n",
       "      <td id=\"T_af867_row0_col5\" class=\"data row0 col5\" >0.017683</td>\n",
       "      <td id=\"T_af867_row0_col6\" class=\"data row0 col6\" >-0.033523</td>\n",
       "      <td id=\"T_af867_row0_col7\" class=\"data row0 col7\" >0.544341</td>\n",
       "      <td id=\"T_af867_row0_col8\" class=\"data row0 col8\" >0.221898</td>\n",
       "    </tr>\n",
       "    <tr>\n",
       "      <th id=\"T_af867_level0_row1\" class=\"row_heading level0 row1\" >Glucose</th>\n",
       "      <td id=\"T_af867_row1_col0\" class=\"data row1 col0\" >0.129459</td>\n",
       "      <td id=\"T_af867_row1_col1\" class=\"data row1 col1\" >1.000000</td>\n",
       "      <td id=\"T_af867_row1_col2\" class=\"data row1 col2\" >0.152590</td>\n",
       "      <td id=\"T_af867_row1_col3\" class=\"data row1 col3\" >0.057328</td>\n",
       "      <td id=\"T_af867_row1_col4\" class=\"data row1 col4\" >0.331357</td>\n",
       "      <td id=\"T_af867_row1_col5\" class=\"data row1 col5\" >0.221071</td>\n",
       "      <td id=\"T_af867_row1_col6\" class=\"data row1 col6\" >0.137337</td>\n",
       "      <td id=\"T_af867_row1_col7\" class=\"data row1 col7\" >0.263514</td>\n",
       "      <td id=\"T_af867_row1_col8\" class=\"data row1 col8\" >0.466581</td>\n",
       "    </tr>\n",
       "    <tr>\n",
       "      <th id=\"T_af867_level0_row2\" class=\"row_heading level0 row2\" >BloodPressure</th>\n",
       "      <td id=\"T_af867_row2_col0\" class=\"data row2 col0\" >0.141282</td>\n",
       "      <td id=\"T_af867_row2_col1\" class=\"data row2 col1\" >0.152590</td>\n",
       "      <td id=\"T_af867_row2_col2\" class=\"data row2 col2\" >1.000000</td>\n",
       "      <td id=\"T_af867_row2_col3\" class=\"data row2 col3\" >0.207371</td>\n",
       "      <td id=\"T_af867_row2_col4\" class=\"data row2 col4\" >0.088933</td>\n",
       "      <td id=\"T_af867_row2_col5\" class=\"data row2 col5\" >0.281805</td>\n",
       "      <td id=\"T_af867_row2_col6\" class=\"data row2 col6\" >0.041265</td>\n",
       "      <td id=\"T_af867_row2_col7\" class=\"data row2 col7\" >0.239528</td>\n",
       "      <td id=\"T_af867_row2_col8\" class=\"data row2 col8\" >0.065068</td>\n",
       "    </tr>\n",
       "    <tr>\n",
       "      <th id=\"T_af867_level0_row3\" class=\"row_heading level0 row3\" >SkinThickness</th>\n",
       "      <td id=\"T_af867_row3_col0\" class=\"data row3 col0\" >-0.081672</td>\n",
       "      <td id=\"T_af867_row3_col1\" class=\"data row3 col1\" >0.057328</td>\n",
       "      <td id=\"T_af867_row3_col2\" class=\"data row3 col2\" >0.207371</td>\n",
       "      <td id=\"T_af867_row3_col3\" class=\"data row3 col3\" >1.000000</td>\n",
       "      <td id=\"T_af867_row3_col4\" class=\"data row3 col4\" >0.436783</td>\n",
       "      <td id=\"T_af867_row3_col5\" class=\"data row3 col5\" >0.392573</td>\n",
       "      <td id=\"T_af867_row3_col6\" class=\"data row3 col6\" >0.183928</td>\n",
       "      <td id=\"T_af867_row3_col7\" class=\"data row3 col7\" >-0.113970</td>\n",
       "      <td id=\"T_af867_row3_col8\" class=\"data row3 col8\" >0.074752</td>\n",
       "    </tr>\n",
       "    <tr>\n",
       "      <th id=\"T_af867_level0_row4\" class=\"row_heading level0 row4\" >Insulin</th>\n",
       "      <td id=\"T_af867_row4_col0\" class=\"data row4 col0\" >-0.073535</td>\n",
       "      <td id=\"T_af867_row4_col1\" class=\"data row4 col1\" >0.331357</td>\n",
       "      <td id=\"T_af867_row4_col2\" class=\"data row4 col2\" >0.088933</td>\n",
       "      <td id=\"T_af867_row4_col3\" class=\"data row4 col3\" >0.436783</td>\n",
       "      <td id=\"T_af867_row4_col4\" class=\"data row4 col4\" >1.000000</td>\n",
       "      <td id=\"T_af867_row4_col5\" class=\"data row4 col5\" >0.197859</td>\n",
       "      <td id=\"T_af867_row4_col6\" class=\"data row4 col6\" >0.185071</td>\n",
       "      <td id=\"T_af867_row4_col7\" class=\"data row4 col7\" >-0.042163</td>\n",
       "      <td id=\"T_af867_row4_col8\" class=\"data row4 col8\" >0.130548</td>\n",
       "    </tr>\n",
       "    <tr>\n",
       "      <th id=\"T_af867_level0_row5\" class=\"row_heading level0 row5\" >BMI</th>\n",
       "      <td id=\"T_af867_row5_col0\" class=\"data row5 col0\" >0.017683</td>\n",
       "      <td id=\"T_af867_row5_col1\" class=\"data row5 col1\" >0.221071</td>\n",
       "      <td id=\"T_af867_row5_col2\" class=\"data row5 col2\" >0.281805</td>\n",
       "      <td id=\"T_af867_row5_col3\" class=\"data row5 col3\" >0.392573</td>\n",
       "      <td id=\"T_af867_row5_col4\" class=\"data row5 col4\" >0.197859</td>\n",
       "      <td id=\"T_af867_row5_col5\" class=\"data row5 col5\" >1.000000</td>\n",
       "      <td id=\"T_af867_row5_col6\" class=\"data row5 col6\" >0.140647</td>\n",
       "      <td id=\"T_af867_row5_col7\" class=\"data row5 col7\" >0.036242</td>\n",
       "      <td id=\"T_af867_row5_col8\" class=\"data row5 col8\" >0.292695</td>\n",
       "    </tr>\n",
       "    <tr>\n",
       "      <th id=\"T_af867_level0_row6\" class=\"row_heading level0 row6\" >DiabetesPedigreeFunction</th>\n",
       "      <td id=\"T_af867_row6_col0\" class=\"data row6 col0\" >-0.033523</td>\n",
       "      <td id=\"T_af867_row6_col1\" class=\"data row6 col1\" >0.137337</td>\n",
       "      <td id=\"T_af867_row6_col2\" class=\"data row6 col2\" >0.041265</td>\n",
       "      <td id=\"T_af867_row6_col3\" class=\"data row6 col3\" >0.183928</td>\n",
       "      <td id=\"T_af867_row6_col4\" class=\"data row6 col4\" >0.185071</td>\n",
       "      <td id=\"T_af867_row6_col5\" class=\"data row6 col5\" >0.140647</td>\n",
       "      <td id=\"T_af867_row6_col6\" class=\"data row6 col6\" >1.000000</td>\n",
       "      <td id=\"T_af867_row6_col7\" class=\"data row6 col7\" >0.033561</td>\n",
       "      <td id=\"T_af867_row6_col8\" class=\"data row6 col8\" >0.173844</td>\n",
       "    </tr>\n",
       "    <tr>\n",
       "      <th id=\"T_af867_level0_row7\" class=\"row_heading level0 row7\" >Age</th>\n",
       "      <td id=\"T_af867_row7_col0\" class=\"data row7 col0\" >0.544341</td>\n",
       "      <td id=\"T_af867_row7_col1\" class=\"data row7 col1\" >0.263514</td>\n",
       "      <td id=\"T_af867_row7_col2\" class=\"data row7 col2\" >0.239528</td>\n",
       "      <td id=\"T_af867_row7_col3\" class=\"data row7 col3\" >-0.113970</td>\n",
       "      <td id=\"T_af867_row7_col4\" class=\"data row7 col4\" >-0.042163</td>\n",
       "      <td id=\"T_af867_row7_col5\" class=\"data row7 col5\" >0.036242</td>\n",
       "      <td id=\"T_af867_row7_col6\" class=\"data row7 col6\" >0.033561</td>\n",
       "      <td id=\"T_af867_row7_col7\" class=\"data row7 col7\" >1.000000</td>\n",
       "      <td id=\"T_af867_row7_col8\" class=\"data row7 col8\" >0.238356</td>\n",
       "    </tr>\n",
       "    <tr>\n",
       "      <th id=\"T_af867_level0_row8\" class=\"row_heading level0 row8\" >Outcome</th>\n",
       "      <td id=\"T_af867_row8_col0\" class=\"data row8 col0\" >0.221898</td>\n",
       "      <td id=\"T_af867_row8_col1\" class=\"data row8 col1\" >0.466581</td>\n",
       "      <td id=\"T_af867_row8_col2\" class=\"data row8 col2\" >0.065068</td>\n",
       "      <td id=\"T_af867_row8_col3\" class=\"data row8 col3\" >0.074752</td>\n",
       "      <td id=\"T_af867_row8_col4\" class=\"data row8 col4\" >0.130548</td>\n",
       "      <td id=\"T_af867_row8_col5\" class=\"data row8 col5\" >0.292695</td>\n",
       "      <td id=\"T_af867_row8_col6\" class=\"data row8 col6\" >0.173844</td>\n",
       "      <td id=\"T_af867_row8_col7\" class=\"data row8 col7\" >0.238356</td>\n",
       "      <td id=\"T_af867_row8_col8\" class=\"data row8 col8\" >1.000000</td>\n",
       "    </tr>\n",
       "  </tbody>\n",
       "</table>\n"
      ],
      "text/plain": [
       "<pandas.io.formats.style.Styler at 0x1a9e50baf10>"
      ]
     },
     "execution_count": 9,
     "metadata": {},
     "output_type": "execute_result"
    }
   ],
   "source": [
    "corr = dataset.corr()\n",
    "corr.style.background_gradient(cmap='coolwarm')"
   ]
  },
  {
   "cell_type": "code",
   "execution_count": null,
   "id": "edecfe09",
   "metadata": {},
   "outputs": [],
   "source": [
    "fig = plt.figure(figsize = (15,20)) #figsize is the width and height in inches\n",
    "ax = fig.gca()#gca is used to get current axes instance on the current figure\n",
    "dataset.hist(ax=ax)"
   ]
  },
  {
   "cell_type": "code",
   "execution_count": 10,
   "id": "18fb3e94",
   "metadata": {},
   "outputs": [],
   "source": [
    "x_set1=np.concatenate((dataset['Glucose'].to_numpy().reshape(len(dataset['Glucose']),1),\n",
    "                             dataset['Insulin'].to_numpy().reshape(len(dataset['Insulin']),1)),axis=1)\n",
    "\n",
    "x_set2=np.concatenate((dataset['Pregnancies'].to_numpy().reshape(len(dataset['Pregnancies']),1),\n",
    "                              dataset['Age'].to_numpy().reshape(len(dataset['Age']),1)),axis=1)\n",
    "\n",
    "x_set3=np.concatenate((dataset['BMI'].to_numpy().reshape(len(dataset['BMI']),1),\n",
    "                              dataset['SkinThickness'].to_numpy().reshape(len(dataset['SkinThickness']),1)),axis=1)\n",
    "\n",
    "\n",
    "y_set=dataset['Outcome']\n",
    "\n",
    "from sklearn.model_selection import train_test_split\n",
    "X_train1,X_test1,y_train1,y_test1=train_test_split(x_set1,y_set\n",
    "                                               ,random_state=66,stratify=dataset['Outcome'])\n",
    "X_train2,X_test2,y_train2,y_test2=train_test_split(x_set2,y_set\n",
    "                                               ,random_state=66,stratify=dataset['Outcome'])\n",
    "X_train3,X_test3,y_train3,y_test3=train_test_split(x_set3,y_set\n",
    "                                               ,random_state=66,stratify=dataset['Outcome'])"
   ]
  },
  {
   "cell_type": "code",
   "execution_count": 11,
   "id": "fce5c668",
   "metadata": {},
   "outputs": [
    {
     "name": "stdout",
     "output_type": "stream",
     "text": [
      "[[110  33]\n",
      " [ 15  34]]\n",
      "0.75\n"
     ]
    }
   ],
   "source": [
    "#training on Glucose and Insulin feature\n",
    "from sklearn.preprocessing import StandardScaler\n",
    "from sklearn.metrics import confusion_matrix,accuracy_score\n",
    "sc1=StandardScaler()\n",
    "X_train1=sc1.fit_transform(X_train1)\n",
    "X_test1=sc1.fit_transform(X_test1)\n",
    "from sklearn.linear_model import LogisticRegression\n",
    "lr1=LogisticRegression()\n",
    "lr1.fit(X_train1,y_train1)\n",
    "y_pred=lr1.predict(X_test1)\n",
    "cm=confusion_matrix(y_pred,y_test1)\n",
    "print(cm)\n",
    "print(accuracy_score(y_pred,y_test1))\n"
   ]
  },
  {
   "cell_type": "code",
   "execution_count": 12,
   "id": "4db8eafb",
   "metadata": {},
   "outputs": [
    {
     "name": "stdout",
     "output_type": "stream",
     "text": [
      "-2.701320690853123 206.87546255326964\n"
     ]
    },
    {
     "name": "stderr",
     "output_type": "stream",
     "text": [
      "*c* argument looks like a single numeric RGB or RGBA sequence, which should be avoided as value-mapping will have precedence in case its length matches with *x* & *y*.  Please use the *color* keyword-argument or provide a 2D array with a single row if you intend to specify the same RGB or RGBA value for all points.\n",
      "*c* argument looks like a single numeric RGB or RGBA sequence, which should be avoided as value-mapping will have precedence in case its length matches with *x* & *y*.  Please use the *color* keyword-argument or provide a 2D array with a single row if you intend to specify the same RGB or RGBA value for all points.\n"
     ]
    },
    {
     "data": {
      "image/png": "[encoded data removed]",
      "text/plain": [
       "<Figure size 432x288 with 1 Axes>"
      ]
     },
     "metadata": {
      "needs_background": "light"
     },
     "output_type": "display_data"
    }
   ],
   "source": [
    "from matplotlib.colors import ListedColormap\n",
    "X_set, y_set = sc1.inverse_transform(X_train1), y_train1\n",
    "print(X_set[:,0].min(),X_set[:,0].max())\n",
    "X1, X2 = np.meshgrid(np.arange(start = X_set[:, 0].min(), stop = X_set[:, 0].max(), step = 0.25),\n",
    "                     np.arange(start = X_set[:, 1].min(), stop = X_set[:, 1].max(), step = 0.25))\n",
    "plt.contourf(X1, X2, lr1.predict(sc1.transform(np.array([X1.ravel(), X2.ravel()]).T)).reshape(X1.shape),\n",
    "             alpha = 0.75, cmap = ListedColormap(('red', 'green')))\n",
    "plt.xlim(X1.min(), X1.max())\n",
    "plt.ylim(X2.min(), X2.max())\n",
    "for i, j in enumerate(np.unique(y_set)):\n",
    "    plt.scatter(X_set[y_set == j, 0], X_set[y_set == j, 1], c = ListedColormap(('red', 'green'))(i), label = j)\n",
    "plt.title('Logistic Classification (Training set)')\n",
    "plt.xlabel('Glucose')\n",
    "plt.ylabel('Insulin')\n",
    "plt.legend()\n",
    "plt.show()"
   ]
  },
  {
   "cell_type": "code",
   "execution_count": 13,
   "id": "346f49b3",
   "metadata": {},
   "outputs": [
    {
     "name": "stdout",
     "output_type": "stream",
     "text": [
      "0.0 198.0\n"
     ]
    },
    {
     "name": "stderr",
     "output_type": "stream",
     "text": [
      "*c* argument looks like a single numeric RGB or RGBA sequence, which should be avoided as value-mapping will have precedence in case its length matches with *x* & *y*.  Please use the *color* keyword-argument or provide a 2D array with a single row if you intend to specify the same RGB or RGBA value for all points.\n",
      "*c* argument looks like a single numeric RGB or RGBA sequence, which should be avoided as value-mapping will have precedence in case its length matches with *x* & *y*.  Please use the *color* keyword-argument or provide a 2D array with a single row if you intend to specify the same RGB or RGBA value for all points.\n"
     ]
    },
    {
     "data": {
      "image/png": "[encoded data removed]",
      "text/plain": [
       "<Figure size 432x288 with 1 Axes>"
      ]
     },
     "metadata": {
      "needs_background": "light"
     },
     "output_type": "display_data"
    }
   ],
   "source": [
    "\n",
    "from matplotlib.colors import ListedColormap\n",
    "X_set, y_set = sc1.inverse_transform(X_test1), y_test1\n",
    "print(X_set[:,0].min(),X_set[:,0].max())\n",
    "X1, X2 = np.meshgrid(np.arange(start = X_set[:, 0].min(), stop = X_set[:, 0].max(), step = 0.25),\n",
    "                     np.arange(start = X_set[:, 1].min(), stop = X_set[:, 1].max(), step = 0.25))\n",
    "plt.contourf(X1, X2, lr1.predict(sc1.transform(np.array([X1.ravel(), X2.ravel()]).T)).reshape(X1.shape),\n",
    "             alpha = 0.75, cmap = ListedColormap(('red', 'green')))\n",
    "plt.xlim(X1.min(), X1.max())\n",
    "plt.ylim(X2.min(), X2.max())\n",
    "for i, j in enumerate(np.unique(y_set)):\n",
    "    plt.scatter(X_set[y_set == j, 0], X_set[y_set == j, 1], c = ListedColormap(('red', 'green'))(i), label = j)\n",
    "plt.title('Logistic Classification (Test set)')\n",
    "plt.xlabel('Glucose')\n",
    "plt.ylabel('Insulin')\n",
    "plt.legend()\n",
    "plt.show()"
   ]
  },
  {
   "cell_type": "code",
   "execution_count": 14,
   "id": "b1fe3bc5",
   "metadata": {},
   "outputs": [
    {
     "name": "stdout",
     "output_type": "stream",
     "text": [
      "[[114  55]\n",
      " [ 11  12]]\n",
      "0.65625\n"
     ]
    }
   ],
   "source": [
    "#training on No of pregnancies and Age feature\n",
    "X_train2=sc1.fit_transform(X_train2)\n",
    "X_test2=sc1.fit_transform(X_test2)\n",
    "\n",
    "lr2=LogisticRegression()\n",
    "lr2.fit(X_train2,y_train2)\n",
    "y_pred=lr2.predict(X_test2)\n",
    "cm=confusion_matrix(y_pred,y_test2)\n",
    "print(cm)\n",
    "print(accuracy_score(y_pred,y_test2))\n"
   ]
  },
  {
   "cell_type": "code",
   "execution_count": 15,
   "id": "08a51af2",
   "metadata": {},
   "outputs": [
    {
     "name": "stderr",
     "output_type": "stream",
     "text": [
      "*c* argument looks like a single numeric RGB or RGBA sequence, which should be avoided as value-mapping will have precedence in case its length matches with *x* & *y*.  Please use the *color* keyword-argument or provide a 2D array with a single row if you intend to specify the same RGB or RGBA value for all points.\n",
      "*c* argument looks like a single numeric RGB or RGBA sequence, which should be avoided as value-mapping will have precedence in case its length matches with *x* & *y*.  Please use the *color* keyword-argument or provide a 2D array with a single row if you intend to specify the same RGB or RGBA value for all points.\n"
     ]
    },
    {
     "name": "stdout",
     "output_type": "stream",
     "text": [
      "0.17579226322996577 17.94329441493998\n"
     ]
    },
    {
     "data": {
      "image/png": "[encoded data removed]",
      "text/plain": [
       "<Figure size 432x288 with 1 Axes>"
      ]
     },
     "metadata": {
      "needs_background": "light"
     },
     "output_type": "display_data"
    }
   ],
   "source": [
    "from matplotlib.colors import ListedColormap\n",
    "X_set, y_set = sc1.inverse_transform(X_train2), y_train2\n",
    "print(X_set[:,0].min(),X_set[:,0].max())\n",
    "X1, X2 = np.meshgrid(np.arange(start = X_set[:, 0].min(), stop = X_set[:, 0].max(), step = 0.25),\n",
    "                     np.arange(start = X_set[:, 1].min(), stop = X_set[:, 1].max(), step = 0.25))\n",
    "plt.contourf(X1, X2, lr2.predict(sc1.transform(np.array([X1.ravel(), X2.ravel()]).T)).reshape(X1.shape),\n",
    "             alpha = 0.75, cmap = ListedColormap(('red', 'green')))\n",
    "plt.xlim(X1.min(), X1.max())\n",
    "plt.ylim(X2.min(), X2.max())\n",
    "for i, j in enumerate(np.unique(y_set)):\n",
    "    plt.scatter(X_set[y_set == j, 0], X_set[y_set == j, 1], c = ListedColormap(('red', 'green'))(i), label = j)\n",
    "plt.title('Logistic Classification (Training set)')\n",
    "plt.xlabel('Pregnancies')\n",
    "plt.ylabel('Age')\n",
    "plt.legend()\n",
    "plt.show()"
   ]
  },
  {
   "cell_type": "code",
   "execution_count": 16,
   "id": "6c830bbd",
   "metadata": {},
   "outputs": [
    {
     "name": "stderr",
     "output_type": "stream",
     "text": [
      "*c* argument looks like a single numeric RGB or RGBA sequence, which should be avoided as value-mapping will have precedence in case its length matches with *x* & *y*.  Please use the *color* keyword-argument or provide a 2D array with a single row if you intend to specify the same RGB or RGBA value for all points.\n",
      "*c* argument looks like a single numeric RGB or RGBA sequence, which should be avoided as value-mapping will have precedence in case its length matches with *x* & *y*.  Please use the *color* keyword-argument or provide a 2D array with a single row if you intend to specify the same RGB or RGBA value for all points.\n"
     ]
    },
    {
     "name": "stdout",
     "output_type": "stream",
     "text": [
      "0.0 15.0\n"
     ]
    },
    {
     "data": {
      "image/png": "[encoded data removed]",
      "text/plain": [
       "<Figure size 432x288 with 1 Axes>"
      ]
     },
     "metadata": {
      "needs_background": "light"
     },
     "output_type": "display_data"
    }
   ],
   "source": [
    "from matplotlib.colors import ListedColormap\n",
    "X_set, y_set = sc1.inverse_transform(X_test2), y_test2\n",
    "print(X_set[:,0].min(),X_set[:,0].max())\n",
    "X1, X2 = np.meshgrid(np.arange(start = X_set[:, 0].min(), stop = X_set[:, 0].max(), step = 0.25),\n",
    "                     np.arange(start = X_set[:, 1].min(), stop = X_set[:, 1].max(), step = 0.25))\n",
    "plt.contourf(X1, X2, lr2.predict(sc1.transform(np.array([X1.ravel(), X2.ravel()]).T)).reshape(X1.shape),\n",
    "             alpha = 0.75, cmap = ListedColormap(('red', 'green')))\n",
    "plt.xlim(X1.min(), X1.max())\n",
    "plt.ylim(X2.min(), X2.max())\n",
    "for i, j in enumerate(np.unique(y_set)):\n",
    "    plt.scatter(X_set[y_set == j, 0], X_set[y_set == j, 1], c = ListedColormap(('red', 'green'))(i), label = j)\n",
    "plt.title('Logistic Classification (Test set)')\n",
    "plt.xlabel('Pregnancies')\n",
    "plt.ylabel('Age')\n",
    "plt.legend()\n",
    "plt.show()"
   ]
  },
  {
   "cell_type": "code",
   "execution_count": 17,
   "id": "dea21fda",
   "metadata": {},
   "outputs": [
    {
     "name": "stdout",
     "output_type": "stream",
     "text": [
      "[[106  54]\n",
      " [ 19  13]]\n",
      "0.6197916666666666\n"
     ]
    }
   ],
   "source": [
    "#training on BMI and SkinThickness feature\n",
    "\n",
    "X_train3=sc1.fit_transform(X_train3)\n",
    "X_test3=sc1.fit_transform(X_test3)\n",
    "\n",
    "lr3=LogisticRegression()\n",
    "lr3.fit(X_train3,y_train3)\n",
    "y_pred=lr3.predict(X_test3)\n",
    "cm=confusion_matrix(y_pred,y_test3)\n",
    "print(cm)\n",
    "print(accuracy_score(y_pred,y_test3))\n"
   ]
  },
  {
   "cell_type": "code",
   "execution_count": 18,
   "id": "a1fb1ca4",
   "metadata": {},
   "outputs": [
    {
     "name": "stderr",
     "output_type": "stream",
     "text": [
      "*c* argument looks like a single numeric RGB or RGBA sequence, which should be avoided as value-mapping will have precedence in case its length matches with *x* & *y*.  Please use the *color* keyword-argument or provide a 2D array with a single row if you intend to specify the same RGB or RGBA value for all points.\n",
      "*c* argument looks like a single numeric RGB or RGBA sequence, which should be avoided as value-mapping will have precedence in case its length matches with *x* & *y*.  Please use the *color* keyword-argument or provide a 2D array with a single row if you intend to specify the same RGB or RGBA value for all points.\n"
     ]
    },
    {
     "name": "stdout",
     "output_type": "stream",
     "text": [
      "4.7081792965615925 63.03128927376089\n"
     ]
    },
    {
     "data": {
      "image/png": "[encoded data removed]",
      "text/plain": [
       "<Figure size 432x288 with 1 Axes>"
      ]
     },
     "metadata": {
      "needs_background": "light"
     },
     "output_type": "display_data"
    }
   ],
   "source": [
    "from matplotlib.colors import ListedColormap\n",
    "X_set, y_set = sc1.inverse_transform(X_train3), y_train3\n",
    "print(X_set[:,0].min(),X_set[:,0].max())\n",
    "X1, X2 = np.meshgrid(np.arange(start = X_set[:, 0].min(), stop = X_set[:, 0].max(), step = 0.25),\n",
    "                     np.arange(start = X_set[:, 1].min(), stop = X_set[:, 1].max(), step = 0.25))\n",
    "plt.contourf(X1, X2, lr3.predict(sc1.transform(np.array([X1.ravel(), X2.ravel()]).T)).reshape(X1.shape),\n",
    "             alpha = 0.75, cmap = ListedColormap(('red', 'green')))\n",
    "plt.xlim(X1.min(), X1.max())\n",
    "plt.ylim(X2.min(), X2.max())\n",
    "for i, j in enumerate(np.unique(y_set)):\n",
    "    plt.scatter(X_set[y_set == j, 0], X_set[y_set == j, 1], c = ListedColormap(('red', 'green'))(i), label = j)\n",
    "plt.title('Logistic Classification (Training set)')\n",
    "plt.xlabel('BMI')\n",
    "plt.ylabel('SkinThickness')\n",
    "plt.legend()\n",
    "plt.show()"
   ]
  },
  {
   "cell_type": "code",
   "execution_count": 19,
   "id": "41ff43cf",
   "metadata": {},
   "outputs": [
    {
     "name": "stderr",
     "output_type": "stream",
     "text": [
      "*c* argument looks like a single numeric RGB or RGBA sequence, which should be avoided as value-mapping will have precedence in case its length matches with *x* & *y*.  Please use the *color* keyword-argument or provide a 2D array with a single row if you intend to specify the same RGB or RGBA value for all points.\n",
      "*c* argument looks like a single numeric RGB or RGBA sequence, which should be avoided as value-mapping will have precedence in case its length matches with *x* & *y*.  Please use the *color* keyword-argument or provide a 2D array with a single row if you intend to specify the same RGB or RGBA value for all points.\n"
     ]
    },
    {
     "name": "stdout",
     "output_type": "stream",
     "text": [
      "0.0 52.3\n"
     ]
    },
    {
     "data": {
      "image/png": "[encoded data removed]",
      "text/plain": [
       "<Figure size 432x288 with 1 Axes>"
      ]
     },
     "metadata": {
      "needs_background": "light"
     },
     "output_type": "display_data"
    }
   ],
   "source": [
    "from matplotlib.colors import ListedColormap\n",
    "X_set, y_set = sc1.inverse_transform(X_test3), y_test3\n",
    "print(X_set[:,0].min(),X_set[:,0].max())\n",
    "X1, X2 = np.meshgrid(np.arange(start = X_set[:, 0].min(), stop = X_set[:, 0].max(), step = 0.25),\n",
    "                     np.arange(start = X_set[:, 1].min(), stop = X_set[:, 1].max(), step = 0.25))\n",
    "plt.contourf(X1, X2, lr3.predict(sc1.transform(np.array([X1.ravel(), X2.ravel()]).T)).reshape(X1.shape),\n",
    "             alpha = 0.75, cmap = ListedColormap(('red', 'green')))\n",
    "plt.xlim(X1.min(), X1.max())\n",
    "plt.ylim(X2.min(), X2.max())\n",
    "for i, j in enumerate(np.unique(y_set)):\n",
    "    plt.scatter(X_set[y_set == j, 0], X_set[y_set == j, 1], c = ListedColormap(('red', 'green'))(i), label = j)\n",
    "plt.title('Logistic Classification (Test set)')\n",
    "plt.xlabel('BMI')\n",
    "plt.ylabel('SkinThickness')\n",
    "plt.legend()\n",
    "plt.show()"
   ]
  },
  {
   "cell_type": "code",
   "execution_count": 20,
   "id": "754bd176",
   "metadata": {},
   "outputs": [
    {
     "name": "stdout",
     "output_type": "stream",
     "text": [
      "(576, 8)\n",
      "     Pregnancies  Glucose  BloodPressure  SkinThickness  Insulin   BMI  \\\n",
      "612            7      168             88             42      321  38.2   \n",
      "557            8      110             76              0        0  27.8   \n",
      "26             7      147             76              0        0  39.4   \n",
      "70             2      100             66             20       90  32.9   \n",
      "73             4      129             86             20      270  35.1   \n",
      "..           ...      ...            ...            ...      ...   ...   \n",
      "632            2      111             60              0        0  26.2   \n",
      "56             7      187             68             39      304  37.7   \n",
      "530            2      122             60             18      106  29.8   \n",
      "568            4      154             72             29      126  31.3   \n",
      "544            1       88             78             29       76  32.0   \n",
      "\n",
      "     DiabetesPedigreeFunction  Age  \n",
      "612                     0.787   40  \n",
      "557                     0.237   58  \n",
      "26                      0.257   43  \n",
      "70                      0.867   28  \n",
      "73                      0.231   23  \n",
      "..                        ...  ...  \n",
      "632                     0.343   23  \n",
      "56                      0.254   41  \n",
      "530                     0.717   22  \n",
      "568                     0.338   37  \n",
      "544                     0.365   29  \n",
      "\n",
      "[576 rows x 8 columns]\n",
      "(192, 8)\n",
      "     Pregnancies  Glucose  BloodPressure  SkinThickness  Insulin   BMI  \\\n",
      "506            0      180             90             26       90  36.5   \n",
      "709            2       93             64             32      160  38.0   \n",
      "257            2      114             68             22        0  28.7   \n",
      "518           13       76             60              0        0  32.8   \n",
      "432            1       80             74             11       60  30.0   \n",
      "..           ...      ...            ...            ...      ...   ...   \n",
      "143           10      108             66              0        0  32.4   \n",
      "686            3      130             64              0        0  23.1   \n",
      "681            0      162             76             36        0  49.6   \n",
      "510           12       84             72             31        0  29.7   \n",
      "426            0       94              0              0        0   0.0   \n",
      "\n",
      "     DiabetesPedigreeFunction  Age  \n",
      "506                     0.314   35  \n",
      "709                     0.674   23  \n",
      "257                     0.092   25  \n",
      "518                     0.180   41  \n",
      "432                     0.527   22  \n",
      "..                        ...  ...  \n",
      "143                     0.272   42  \n",
      "686                     0.314   22  \n",
      "681                     0.364   26  \n",
      "510                     0.297   46  \n",
      "426                     0.256   25  \n",
      "\n",
      "[192 rows x 8 columns]\n",
      "(576,)\n",
      "612    1\n",
      "557    0\n",
      "26     1\n",
      "70     1\n",
      "73     0\n",
      "      ..\n",
      "632    0\n",
      "56     1\n",
      "530    0\n",
      "568    0\n",
      "544    0\n",
      "Name: Outcome, Length: 576, dtype: int64\n",
      "(192,)\n",
      "506    1\n",
      "709    1\n",
      "257    0\n",
      "518    0\n",
      "432    0\n",
      "      ..\n",
      "143    1\n",
      "686    0\n",
      "681    1\n",
      "510    1\n",
      "426    0\n",
      "Name: Outcome, Length: 192, dtype: int64\n"
     ]
    }
   ],
   "source": [
    "#Logistic Regression on all features\n",
    "from sklearn.model_selection import train_test_split\n",
    "X_train, X_test, y_train, y_test = train_test_split(dataset.loc[:, dataset.columns != 'Outcome'], \n",
    "                                                     dataset['Outcome'], stratify=dataset['Outcome'], random_state=66)\n",
    "print(X_train.shape)\n",
    "print(X_train)\n",
    "print(X_test.shape)\n",
    "print(X_test)\n",
    "print(y_train.shape)\n",
    "print(y_train)\n",
    "print(y_test.shape)\n",
    "print(y_test)"
   ]
  },
  {
   "cell_type": "code",
   "execution_count": 21,
   "id": "f748c7e5",
   "metadata": {},
   "outputs": [
    {
     "name": "stdout",
     "output_type": "stream",
     "text": [
      "(576, 8)\n",
      "[[ 0.97457151  1.52528095  0.94599501 ...  0.78036618  0.907501\n",
      "   0.59363371]\n",
      " [ 1.27524274 -0.31683408  0.35393439 ... -0.49918316 -0.72639999\n",
      "   2.11034006]\n",
      " [ 0.97457151  0.85830827  0.35393439 ...  0.92800649 -0.66698541\n",
      "   0.8464181 ]\n",
      " ...\n",
      " [-0.52878465  0.06429317 -0.43547977 ... -0.25311598  0.69954996\n",
      "  -0.92307263]\n",
      " [ 0.07255781  1.0806325   0.15658085 ... -0.06856559 -0.42635635\n",
      "   0.34084932]\n",
      " [-0.82945588 -1.01556737  0.45261116 ...  0.01755792 -0.34614667\n",
      "  -0.33324239]]\n",
      "(192, 8)\n",
      "[[-1.13012711  1.9064082   1.04467178 ...  0.57120908 -0.49765385\n",
      "   0.1723264 ]\n",
      " [-0.52878465 -0.85676435 -0.23812623 ...  0.75575946  0.57180861\n",
      "  -0.83881117]\n",
      " [-0.52878465 -0.18979167 -0.04077269 ... -0.38845293 -1.15715571\n",
      "  -0.67028824]\n",
      " ...\n",
      " [-1.13012711  1.33471733  0.35393439 ...  2.18294912 -0.3491174\n",
      "  -0.58602678]\n",
      " [ 2.47792767 -1.14260979  0.15658085 ... -0.26541934 -0.54815625\n",
      "   1.09920249]\n",
      " [-1.13012711 -0.82500375 -3.39578288 ... -3.91951699 -0.66995614\n",
      "  -0.67028824]]\n"
     ]
    }
   ],
   "source": [
    "from sklearn.preprocessing import StandardScaler\n",
    "sc=StandardScaler()\n",
    "X_train=sc.fit_transform(X_train)\n",
    "X_test=sc.transform(X_test)\n",
    "print(X_train.shape)\n",
    "print(X_train)\n",
    "print(X_test.shape)\n",
    "print(X_test)"
   ]
  },
  {
   "cell_type": "code",
   "execution_count": 55,
   "id": "61f806e7",
   "metadata": {},
   "outputs": [],
   "source": [
    "#Logistic Regression on all features\n",
    "classifier=LogisticRegression()\n",
    "classifier.fit(X_train,y_train)\n",
    "classifier100=LogisticRegression(C=100).fit(X_train,y_train)\n",
    "classifier001=LogisticRegression(C=0.001).fit(X_train,y_train)"
   ]
  },
  {
   "cell_type": "code",
   "execution_count": 56,
   "id": "4306ea8e",
   "metadata": {},
   "outputs": [
    {
     "name": "stdout",
     "output_type": "stream",
     "text": [
      "<class 'numpy.ndarray'> <class 'pandas.core.series.Series'>\n",
      "[[1 1]\n",
      " [0 1]\n",
      " [0 0]\n",
      " [0 0]\n",
      " [0 0]\n",
      " [1 1]\n",
      " [1 0]\n",
      " [0 0]\n",
      " [0 0]\n",
      " [0 0]\n",
      " [1 0]\n",
      " [0 0]\n",
      " [1 1]\n",
      " [0 0]\n",
      " [1 1]\n",
      " [0 0]\n",
      " [0 0]\n",
      " [1 1]\n",
      " [1 1]\n",
      " [1 1]\n",
      " [0 0]\n",
      " [0 0]\n",
      " [0 0]\n",
      " [0 1]\n",
      " [0 0]\n",
      " [0 0]\n",
      " [0 0]\n",
      " [0 0]\n",
      " [0 0]\n",
      " [0 0]\n",
      " [0 0]\n",
      " [0 0]\n",
      " [0 1]\n",
      " [0 0]\n",
      " [0 1]\n",
      " [1 0]\n",
      " [1 0]\n",
      " [1 0]\n",
      " [1 1]\n",
      " [0 0]\n",
      " [1 1]\n",
      " [0 0]\n",
      " [0 0]\n",
      " [0 0]\n",
      " [1 1]\n",
      " [0 0]\n",
      " [0 0]\n",
      " [1 1]\n",
      " [0 0]\n",
      " [1 1]\n",
      " [1 1]\n",
      " [1 0]\n",
      " [0 1]\n",
      " [0 0]\n",
      " [1 1]\n",
      " [0 0]\n",
      " [1 1]\n",
      " [0 0]\n",
      " [0 0]\n",
      " [0 1]\n",
      " [0 1]\n",
      " [0 0]\n",
      " [0 0]\n",
      " [0 0]\n",
      " [1 1]\n",
      " [0 0]\n",
      " [0 0]\n",
      " [0 0]\n",
      " [0 1]\n",
      " [0 0]\n",
      " [0 0]\n",
      " [0 0]\n",
      " [0 0]\n",
      " [0 0]\n",
      " [0 0]\n",
      " [0 0]\n",
      " [0 0]\n",
      " [0 0]\n",
      " [0 0]\n",
      " [0 0]\n",
      " [0 0]\n",
      " [0 0]\n",
      " [0 0]\n",
      " [0 0]\n",
      " [0 0]\n",
      " [0 0]\n",
      " [1 1]\n",
      " [1 0]\n",
      " [0 0]\n",
      " [0 0]\n",
      " [1 0]\n",
      " [1 1]\n",
      " [1 1]\n",
      " [0 0]\n",
      " [1 1]\n",
      " [0 0]\n",
      " [0 0]\n",
      " [0 0]\n",
      " [0 0]\n",
      " [0 0]\n",
      " [1 1]\n",
      " [0 0]\n",
      " [0 0]\n",
      " [0 0]\n",
      " [0 0]\n",
      " [0 0]\n",
      " [0 0]\n",
      " [1 0]\n",
      " [0 0]\n",
      " [0 1]\n",
      " [1 1]\n",
      " [0 1]\n",
      " [1 1]\n",
      " [0 0]\n",
      " [0 0]\n",
      " [1 1]\n",
      " [0 0]\n",
      " [1 1]\n",
      " [0 0]\n",
      " [0 1]\n",
      " [0 1]\n",
      " [0 1]\n",
      " [0 0]\n",
      " [1 0]\n",
      " [0 0]\n",
      " [1 1]\n",
      " [1 1]\n",
      " [0 0]\n",
      " [1 0]\n",
      " [0 0]\n",
      " [0 1]\n",
      " [1 0]\n",
      " [0 0]\n",
      " [0 0]\n",
      " [0 0]\n",
      " [0 0]\n",
      " [1 0]\n",
      " [0 1]\n",
      " [1 0]\n",
      " [0 0]\n",
      " [0 0]\n",
      " [1 1]\n",
      " [1 1]\n",
      " [0 0]\n",
      " [1 0]\n",
      " [0 0]\n",
      " [0 0]\n",
      " [1 1]\n",
      " [0 1]\n",
      " [0 1]\n",
      " [0 0]\n",
      " [0 0]\n",
      " [1 1]\n",
      " [0 0]\n",
      " [0 0]\n",
      " [1 1]\n",
      " [0 1]\n",
      " [1 1]\n",
      " [0 0]\n",
      " [1 1]\n",
      " [1 1]\n",
      " [0 1]\n",
      " [0 1]\n",
      " [0 1]\n",
      " [0 0]\n",
      " [0 0]\n",
      " [0 0]\n",
      " [0 1]\n",
      " [0 0]\n",
      " [0 1]\n",
      " [0 0]\n",
      " [1 1]\n",
      " [0 0]\n",
      " [0 1]\n",
      " [0 1]\n",
      " [0 0]\n",
      " [0 0]\n",
      " [0 0]\n",
      " [0 1]\n",
      " [1 1]\n",
      " [0 0]\n",
      " [0 0]\n",
      " [1 1]\n",
      " [1 0]\n",
      " [1 0]\n",
      " [0 0]\n",
      " [0 0]\n",
      " [0 1]\n",
      " [0 0]\n",
      " [1 1]\n",
      " [0 1]\n",
      " [0 0]]\n"
     ]
    }
   ],
   "source": [
    "y_pred=classifier.predict(X_test)\n",
    "y_pred1=classifier100.predict(X_test)\n",
    "y_pred2=classifier001.predict(X_test)\n",
    "\n",
    "print(type(y_pred),type(y_test))\n",
    "print(np.concatenate(( y_pred.reshape(len(y_pred),1),y_test.to_numpy().reshape(len(y_test),1) ),axis=1))\n"
   ]
  },
  {
   "cell_type": "code",
   "execution_count": 59,
   "id": "a2ee3268",
   "metadata": {
    "scrolled": true
   },
   "outputs": [
    {
     "name": "stdout",
     "output_type": "stream",
     "text": [
      "Metrics of  LogisticRegression() \n",
      "\n",
      "[[108  17]\n",
      " [ 28  39]]\n",
      "0.765625\n",
      "OUTCOME DIABETIC\n",
      "\n",
      "Mis-classification(1-accuracy) 0.234375\n",
      "sensitivity 0.582089552238806\n",
      "Specificity(TNR): 0.864\n",
      "precision 0.6964285714285714\n",
      "f1 score 0.6341463414634148\n",
      "OUTCOME NON DIABETIC\n",
      "Mis-classification(1-accuracy) 0.234375\n",
      "sensitivity 0.864\n",
      "Specificity(TNR): 0.582089552238806\n",
      "precision 0.7941176470588235\n",
      "f1 score 0.8275862068965517\n",
      "Metrics of classifier with C=100 \n",
      "\n",
      "[[108  17]\n",
      " [ 28  39]]\n",
      "0.765625\n",
      "OUTCOME DIABETIC\n",
      "\n",
      "Mis-classification(1-accuracy) 0.234375\n",
      "sensitivity 0.582089552238806\n",
      "Specificity(TNR): 0.864\n",
      "precision 0.6964285714285714\n",
      "f1 score 0.6341463414634148\n",
      "OUTCOME NON DIABETIC\n",
      "Mis-classification(1-accuracy) 0.234375\n",
      "sensitivity 0.864\n",
      "Specificity(TNR): 0.582089552238806\n",
      "precision 0.7941176470588235\n",
      "f1 score 0.8275862068965517\n",
      "Metrics of classifier with C=0.001 \n",
      "\n",
      "[[125   0]\n",
      " [ 67   0]]\n",
      "0.6510416666666666\n",
      "OUTCOME DIABETIC\n",
      "\n",
      "Mis-classification(1-accuracy) 0.3489583333333333\n",
      "sensitivity 0.0\n",
      "Specificity(TNR): 1.0\n",
      "precision nan\n",
      "f1 score nan\n",
      "OUTCOME NON DIABETIC\n",
      "Mis-classification(1-accuracy) 0.3489583333333333\n",
      "sensitivity 1.0\n",
      "Specificity(TNR): 0.0\n",
      "precision 0.6510416666666666\n",
      "f1 score 0.7886435331230284\n"
     ]
    },
    {
     "name": "stderr",
     "output_type": "stream",
     "text": [
      "C:\\Users\\Hp\\AppData\\Local\\Temp/ipykernel_10776/886398373.py:60: RuntimeWarning: invalid value encountered in longlong_scalars\n",
      "  Precision=cm[1][1]/(cm[1][1]+cm[0][1])\n"
     ]
    }
   ],
   "source": [
    "    from sklearn.metrics import confusion_matrix,accuracy_score\n",
    "    \n",
    "    print(\"Metrics of \",classifier,\"\\n\")\n",
    "\n",
    "    cm=confusion_matrix(y_test,y_pred)\n",
    "    print(cm)\n",
    "    print(accuracy_score(y_test,y_pred))\n",
    "    print(\"OUTCOME DIABETIC\\n\")\n",
    "    print(\"Mis-classification(1-accuracy)\",(cm[0][1]+cm[1][0])/(cm[0][0]+cm[0][1]+cm[1][0]+cm[1][1]))\n",
    "    Sensitivity=cm[1][1]/(cm[1][1]+cm[1][0])\n",
    "    print(\"sensitivity\",Sensitivity)\n",
    "    print(\"Specificity(TNR):\",cm[0][0]/(cm[0][0]+cm[0][1]))\n",
    "    Precision=cm[1][1]/(cm[1][1]+cm[0][1])\n",
    "    print(\"precision\",Precision)\n",
    "    print(\"f1 score\",2*Precision*Sensitivity/(Precision+Sensitivity))\n",
    "\n",
    "    print(\"OUTCOME NON DIABETIC\")\n",
    "    print(\"Mis-classification(1-accuracy)\",(cm[0][1]+cm[1][0])/(cm[0][0]+cm[0][1]+cm[1][0]+cm[1][1]))\n",
    "    Sensitivity=cm[0][0]/(cm[0][0]+cm[0][1])\n",
    "    print(\"sensitivity\",Sensitivity)\n",
    "    print(\"Specificity(TNR):\",cm[1][1]/(cm[1][1]+cm[1][0]))\n",
    "    Precision=cm[0][0]/(cm[0][0]+cm[1][0])\n",
    "    print(\"precision\",Precision)\n",
    "    print(\"f1 score\",2*Precision*Sensitivity/(Precision+Sensitivity))\n",
    "    \n",
    "    \n",
    "    print(\"Metrics of classifier with C=100\",\"\\n\")\n",
    "\n",
    "    cm=confusion_matrix(y_test,y_pred1)\n",
    "    print(cm)\n",
    "    print(accuracy_score(y_test,y_pred1))\n",
    "    print(\"OUTCOME DIABETIC\\n\")\n",
    "    print(\"Mis-classification(1-accuracy)\",(cm[0][1]+cm[1][0])/(cm[0][0]+cm[0][1]+cm[1][0]+cm[1][1]))\n",
    "    Sensitivity=cm[1][1]/(cm[1][1]+cm[1][0])\n",
    "    print(\"sensitivity\",Sensitivity)\n",
    "    print(\"Specificity(TNR):\",cm[0][0]/(cm[0][0]+cm[0][1]))\n",
    "    Precision=cm[1][1]/(cm[1][1]+cm[0][1])\n",
    "    print(\"precision\",Precision)\n",
    "    print(\"f1 score\",2*Precision*Sensitivity/(Precision+Sensitivity))\n",
    "\n",
    "    print(\"OUTCOME NON DIABETIC\")\n",
    "    print(\"Mis-classification(1-accuracy)\",(cm[0][1]+cm[1][0])/(cm[0][0]+cm[0][1]+cm[1][0]+cm[1][1]))\n",
    "    Sensitivity=cm[0][0]/(cm[0][0]+cm[0][1])\n",
    "    print(\"sensitivity\",Sensitivity)\n",
    "    print(\"Specificity(TNR):\",cm[1][1]/(cm[1][1]+cm[1][0]))\n",
    "    Precision=cm[0][0]/(cm[0][0]+cm[1][0])\n",
    "    print(\"precision\",Precision)\n",
    "    print(\"f1 score\",2*Precision*Sensitivity/(Precision+Sensitivity))\n",
    "    \n",
    "    print(\"Metrics of classifier with C=0.001\",\"\\n\")\n",
    "\n",
    "    cm=confusion_matrix(y_test,y_pred2)\n",
    "    print(cm)\n",
    "    print(accuracy_score(y_test,y_pred2))\n",
    "    print(\"OUTCOME DIABETIC\\n\")\n",
    "    print(\"Mis-classification(1-accuracy)\",(cm[0][1]+cm[1][0])/(cm[0][0]+cm[0][1]+cm[1][0]+cm[1][1]))\n",
    "    Sensitivity=cm[1][1]/(cm[1][1]+cm[1][0])\n",
    "    print(\"sensitivity\",Sensitivity)\n",
    "    print(\"Specificity(TNR):\",cm[0][0]/(cm[0][0]+cm[0][1]))\n",
    "    Precision=cm[1][1]/(cm[1][1]+cm[0][1])\n",
    "    print(\"precision\",Precision)\n",
    "    print(\"f1 score\",2*Precision*Sensitivity/(Precision+Sensitivity))\n",
    "\n",
    "    print(\"OUTCOME NON DIABETIC\")\n",
    "    print(\"Mis-classification(1-accuracy)\",(cm[0][1]+cm[1][0])/(cm[0][0]+cm[0][1]+cm[1][0]+cm[1][1]))\n",
    "    Sensitivity=cm[0][0]/(cm[0][0]+cm[0][1])\n",
    "    print(\"sensitivity\",Sensitivity)\n",
    "    print(\"Specificity(TNR):\",cm[1][1]/(cm[1][1]+cm[1][0]))\n",
    "    Precision=cm[0][0]/(cm[0][0]+cm[1][0])\n",
    "    print(\"precision\",Precision)\n",
    "    print(\"f1 score\",2*Precision*Sensitivity/(Precision+Sensitivity))\n"
   ]
  },
  {
   "cell_type": "code",
   "execution_count": 60,
   "id": "d3b463db",
   "metadata": {},
   "outputs": [
    {
     "name": "stdout",
     "output_type": "stream",
     "text": [
      "Accuracy in K-fold Cross Validation(K=10) of Logistic classifier: 77.59 % standard deviation :4.36%\n"
     ]
    }
   ],
   "source": [
    "from sklearn.model_selection import cross_val_score\n",
    "accuracies=cross_val_score(estimator=classifier100,X=X_train,y=y_train,cv=10)\n",
    "print(\"Accuracy in K-fold Cross Validation(K=10) of Logistic classifier: {:.2f} %\".format(accuracies.mean()*100),\n",
    "                         \"standard deviation :{:.2f}%\".format(accuracies.std()*100))\n"
   ]
  },
  {
   "cell_type": "code",
   "execution_count": 26,
   "id": "a477f126",
   "metadata": {},
   "outputs": [
    {
     "data": {
      "text/plain": [
       "<matplotlib.legend.Legend at 0x1a9e7cf6430>"
      ]
     },
     "execution_count": 26,
     "metadata": {},
     "output_type": "execute_result"
    },
    {
     "data": {
      "image/png": "[encoded data removed]",
      "text/plain": [
       "<Figure size 576x432 with 1 Axes>"
      ]
     },
     "metadata": {
      "needs_background": "light"
     },
     "output_type": "display_data"
    }
   ],
   "source": [
    "diabetes_features = [x for i,x in enumerate(dataset.columns) if i!=8]\n",
    "plt.figure(figsize=(8,6))\n",
    "plt.plot(classifier.coef_.T, 'o', label=\"C=1\")\n",
    "plt.plot(classifier100.coef_.T,'v',label=\"C=100\")\n",
    "plt.plot(classifier001.coef_.T,'^',label=\"C=0.001\")\n",
    "plt.xticks(range(dataset.shape[1]-1), diabetes_features, rotation=90)\n",
    "plt.hlines(0, 0, dataset.shape[1]-1)\n",
    "plt.ylim(-5, 5)\n",
    "plt.xlabel(\"Feature\")\n",
    "plt.ylabel(\"Coefficient magnitude\")\n",
    "plt.legend()"
   ]
  },
  {
   "cell_type": "code",
   "execution_count": 27,
   "id": "51c47028",
   "metadata": {},
   "outputs": [
    {
     "ename": "NameError",
     "evalue": "name 'sns' is not defined",
     "output_type": "error",
     "traceback": [
      "\u001b[1;31m---------------------------------------------------------------------------\u001b[0m",
      "\u001b[1;31mNameError\u001b[0m                                 Traceback (most recent call last)",
      "\u001b[1;32m~\\AppData\\Local\\Temp/ipykernel_10776/1105914521.py\u001b[0m in \u001b[0;36m<module>\u001b[1;34m\u001b[0m\n\u001b[0;32m      1\u001b[0m \u001b[0mlabels\u001b[0m \u001b[1;33m=\u001b[0m \u001b[1;33m[\u001b[0m\u001b[1;34m'True Neg'\u001b[0m\u001b[1;33m,\u001b[0m\u001b[1;34m'False Pos'\u001b[0m\u001b[1;33m,\u001b[0m\u001b[1;34m'False Neg'\u001b[0m\u001b[1;33m,\u001b[0m\u001b[1;34m'True Pos'\u001b[0m\u001b[1;33m]\u001b[0m\u001b[1;33m\u001b[0m\u001b[1;33m\u001b[0m\u001b[0m\n\u001b[0;32m      2\u001b[0m \u001b[0mlabels\u001b[0m \u001b[1;33m=\u001b[0m \u001b[0mnp\u001b[0m\u001b[1;33m.\u001b[0m\u001b[0masarray\u001b[0m\u001b[1;33m(\u001b[0m\u001b[0mlabels\u001b[0m\u001b[1;33m)\u001b[0m\u001b[1;33m.\u001b[0m\u001b[0mreshape\u001b[0m\u001b[1;33m(\u001b[0m\u001b[1;36m2\u001b[0m\u001b[1;33m,\u001b[0m\u001b[1;36m2\u001b[0m\u001b[1;33m)\u001b[0m\u001b[1;33m\u001b[0m\u001b[1;33m\u001b[0m\u001b[0m\n\u001b[1;32m----> 3\u001b[1;33m \u001b[0msns\u001b[0m\u001b[1;33m.\u001b[0m\u001b[0mheatmap\u001b[0m\u001b[1;33m(\u001b[0m\u001b[0mcm\u001b[0m\u001b[1;33m,\u001b[0m \u001b[0mannot\u001b[0m\u001b[1;33m=\u001b[0m\u001b[0mlabels\u001b[0m\u001b[1;33m,\u001b[0m \u001b[0mfmt\u001b[0m\u001b[1;33m=\u001b[0m\u001b[1;34m''\u001b[0m\u001b[1;33m,\u001b[0m \u001b[0mcmap\u001b[0m\u001b[1;33m=\u001b[0m\u001b[1;34m'Blues'\u001b[0m\u001b[1;33m)\u001b[0m\u001b[1;33m\u001b[0m\u001b[1;33m\u001b[0m\u001b[0m\n\u001b[0m\u001b[0;32m      4\u001b[0m \u001b[0mplt\u001b[0m\u001b[1;33m.\u001b[0m\u001b[0mshow\u001b[0m\u001b[1;33m(\u001b[0m\u001b[1;33m)\u001b[0m\u001b[1;33m\u001b[0m\u001b[1;33m\u001b[0m\u001b[0m\n",
      "\u001b[1;31mNameError\u001b[0m: name 'sns' is not defined"
     ]
    }
   ],
   "source": [
    "labels = ['True Neg','False Pos','False Neg','True Pos']\n",
    "labels = np.asarray(labels).reshape(2,2)\n",
    "sns.heatmap(cm, annot=labels, fmt='', cmap='Blues')\n",
    "plt.show()"
   ]
  },
  {
   "cell_type": "code",
   "execution_count": 61,
   "id": "0551c890",
   "metadata": {},
   "outputs": [
    {
     "name": "stdout",
     "output_type": "stream",
     "text": [
      "Score of SVM with linear kernel\n",
      "Training set score 0.7482638888888888\n",
      "Test set score 0.75\n",
      "Score of SVM with rbf kernel\n",
      "Training set score 0.7569444444444444\n",
      "Test set score 0.7395833333333334\n"
     ]
    }
   ],
   "source": [
    "#Training SVM model on glucose and insulin feature\n",
    "from sklearn.svm import SVC\n",
    "classifier=SVC(kernel=\"linear\",C=13)\n",
    "classifier.fit(X_train1,y_train1)\n",
    "print(\"Score of SVM with linear kernel\")\n",
    "print(\"Training set score\",classifier.score(X_train1,y_train1))\n",
    "print(\"Test set score\",classifier.score(X_test1,y_test1))\n",
    "classifierrbf=SVC(kernel=\"rbf\",C=13).fit(X_train1,y_train1)\n",
    "print(\"Score of SVM with rbf kernel\")\n",
    "print(\"Training set score\",classifierrbf.score(X_train1,y_train1))\n",
    "print(\"Test set score\",classifierrbf.score(X_test1,y_test1))"
   ]
  },
  {
   "cell_type": "code",
   "execution_count": 30,
   "id": "f09bdd86",
   "metadata": {},
   "outputs": [
    {
     "name": "stdout",
     "output_type": "stream",
     "text": [
      "6.05388091473235 48.238905266930416\n"
     ]
    },
    {
     "name": "stderr",
     "output_type": "stream",
     "text": [
      "*c* argument looks like a single numeric RGB or RGBA sequence, which should be avoided as value-mapping will have precedence in case its length matches with *x* & *y*.  Please use the *color* keyword-argument or provide a 2D array with a single row if you intend to specify the same RGB or RGBA value for all points.\n",
      "*c* argument looks like a single numeric RGB or RGBA sequence, which should be avoided as value-mapping will have precedence in case its length matches with *x* & *y*.  Please use the *color* keyword-argument or provide a 2D array with a single row if you intend to specify the same RGB or RGBA value for all points.\n"
     ]
    },
    {
     "data": {
      "image/png": "[encoded data removed]",
      "text/plain": [
       "<Figure size 432x288 with 1 Axes>"
      ]
     },
     "metadata": {
      "needs_background": "light"
     },
     "output_type": "display_data"
    }
   ],
   "source": [
    "\n",
    "from matplotlib.colors import ListedColormap\n",
    "X_set, y_set = sc1.inverse_transform(X_test1), y_test1\n",
    "print(X_set[:,0].min(),X_set[:,0].max())\n",
    "X1, X2 = np.meshgrid(np.arange(start = X_set[:, 0].min(), stop = X_set[:, 0].max(), step = 0.25),\n",
    "                     np.arange(start = X_set[:, 1].min(), stop = X_set[:, 1].max(), step = 0.25))\n",
    "plt.contourf(X1, X2, classifier.predict(sc1.transform(np.array([X1.ravel(), X2.ravel()]).T)).reshape(X1.shape),\n",
    "             alpha = 0.75, cmap = ListedColormap(('red', 'green')))\n",
    "plt.xlim(X1.min(), X1.max())\n",
    "plt.ylim(X2.min(), X2.max())\n",
    "for i, j in enumerate(np.unique(y_set)):\n",
    "    plt.scatter(X_set[y_set == j, 0], X_set[y_set == j, 1], c = ListedColormap(('red', 'green'))(i), label = j)\n",
    "plt.title('Support Vector Classification with Linear kernel(Test set)')\n",
    "plt.xlabel('Glucose')\n",
    "plt.ylabel('Insulin')\n",
    "plt.legend()\n",
    "plt.show()"
   ]
  },
  {
   "cell_type": "code",
   "execution_count": 31,
   "id": "3a30f641",
   "metadata": {},
   "outputs": [
    {
     "name": "stdout",
     "output_type": "stream",
     "text": [
      "6.05388091473235 48.238905266930416\n"
     ]
    },
    {
     "name": "stderr",
     "output_type": "stream",
     "text": [
      "*c* argument looks like a single numeric RGB or RGBA sequence, which should be avoided as value-mapping will have precedence in case its length matches with *x* & *y*.  Please use the *color* keyword-argument or provide a 2D array with a single row if you intend to specify the same RGB or RGBA value for all points.\n",
      "*c* argument looks like a single numeric RGB or RGBA sequence, which should be avoided as value-mapping will have precedence in case its length matches with *x* & *y*.  Please use the *color* keyword-argument or provide a 2D array with a single row if you intend to specify the same RGB or RGBA value for all points.\n"
     ]
    },
    {
     "data": {
      "image/png": "[encoded data removed]",
      "text/plain": [
       "<Figure size 432x288 with 1 Axes>"
      ]
     },
     "metadata": {
      "needs_background": "light"
     },
     "output_type": "display_data"
    }
   ],
   "source": [
    "from matplotlib.colors import ListedColormap\n",
    "X_set, y_set = sc1.inverse_transform(X_test1), y_test1\n",
    "print(X_set[:,0].min(),X_set[:,0].max())\n",
    "X1, X2 = np.meshgrid(np.arange(start = X_set[:, 0].min(), stop = X_set[:, 0].max(), step = 0.25),\n",
    "                     np.arange(start = X_set[:, 1].min(), stop = X_set[:, 1].max(), step = 0.25))\n",
    "plt.contourf(X1, X2, classifierrbf.predict(sc1.transform(np.array([X1.ravel(), X2.ravel()]).T)).reshape(X1.shape),\n",
    "             alpha = 0.75, cmap = ListedColormap(('red', 'green')))\n",
    "plt.xlim(X1.min(), X1.max())\n",
    "plt.ylim(X2.min(), X2.max())\n",
    "for i, j in enumerate(np.unique(y_set)):\n",
    "    plt.scatter(X_set[y_set == j, 0], X_set[y_set == j, 1], c = ListedColormap(('red', 'green'))(i), label = j)\n",
    "plt.title('Support Vector Classification with RBF kernel(Test set)')\n",
    "plt.xlabel('Glucose')\n",
    "plt.ylabel('Insulin')\n",
    "plt.legend()\n",
    "plt.show()"
   ]
  },
  {
   "cell_type": "code",
   "execution_count": 33,
   "id": "db4fed6d",
   "metadata": {},
   "outputs": [
    {
     "name": "stdout",
     "output_type": "stream",
     "text": [
      "[[111  14]\n",
      " [ 34  33]]\n",
      "0.75\n",
      "OUTCOME DIABETIC\n",
      "\n",
      "Mis-classification(1-accuracy) 0.25\n",
      "sensitivity 0.4925373134328358\n",
      "Specificity(TNR): 0.888\n",
      "precision 0.7021276595744681\n",
      "f1 score 0.5789473684210525\n",
      "OUTCOME NON DIABETIC\n",
      "Mis-classification(1-accuracy) 0.25\n",
      "sensitivity 0.888\n",
      "Specificity(TNR): 0.4925373134328358\n",
      "precision 0.7655172413793103\n",
      "f1 score 0.8222222222222222\n"
     ]
    }
   ],
   "source": [
    "#SVM with linear kernel\n",
    "y_pred=classifier.predict(X_test1)\n",
    "cm=confusion_matrix(y_test1,y_pred)\n",
    "print(cm)\n",
    "print(accuracy_score(y_test1,y_pred))\n",
    "print(\"OUTCOME DIABETIC\\n\")\n",
    "print(\"Mis-classification(1-accuracy)\",(cm[0][1]+cm[1][0])/(cm[0][0]+cm[0][1]+cm[1][0]+cm[1][1]))\n",
    "Sensitivity=cm[1][1]/(cm[1][1]+cm[1][0])\n",
    "print(\"sensitivity\",Sensitivity)\n",
    "print(\"Specificity(TNR):\",cm[0][0]/(cm[0][0]+cm[0][1]))\n",
    "Precision=cm[1][1]/(cm[1][1]+cm[0][1])\n",
    "print(\"precision\",Precision)\n",
    "print(\"f1 score\",2*Precision*Sensitivity/(Precision+Sensitivity))\n",
    "\n",
    "print(\"OUTCOME NON DIABETIC\")\n",
    "print(\"Mis-classification(1-accuracy)\",(cm[0][1]+cm[1][0])/(cm[0][0]+cm[0][1]+cm[1][0]+cm[1][1]))\n",
    "Sensitivity=cm[0][0]/(cm[0][0]+cm[0][1])\n",
    "print(\"sensitivity\",Sensitivity)\n",
    "print(\"Specificity(TNR):\",cm[1][1]/(cm[1][1]+cm[1][0]))\n",
    "Precision=cm[0][0]/(cm[0][0]+cm[1][0])\n",
    "print(\"precision\",Precision)\n",
    "print(\"f1 score\",2*Precision*Sensitivity/(Precision+Sensitivity))\n"
   ]
  },
  {
   "cell_type": "code",
   "execution_count": 34,
   "id": "4fa8d185",
   "metadata": {},
   "outputs": [
    {
     "name": "stdout",
     "output_type": "stream",
     "text": [
      "[[116   9]\n",
      " [ 41  26]]\n",
      "0.7395833333333334\n",
      "OUTCOME DIABETIC\n",
      "\n",
      "Mis-classification(1-accuracy) 0.2604166666666667\n",
      "sensitivity 0.3880597014925373\n",
      "Specificity(TNR): 0.928\n",
      "precision 0.7428571428571429\n",
      "f1 score 0.5098039215686275\n",
      "OUTCOME NON DIABETIC\n",
      "Mis-classification(1-accuracy) 0.2604166666666667\n",
      "sensitivity 0.928\n",
      "Specificity(TNR): 0.3880597014925373\n",
      "precision 0.7388535031847133\n",
      "f1 score 0.822695035460993\n"
     ]
    }
   ],
   "source": [
    "#SVM with radial basis function\n",
    "y_pred=classifierrbf.predict(X_test1)\n",
    "cm=confusion_matrix(y_test1,y_pred)\n",
    "print(cm)\n",
    "print(accuracy_score(y_test1,y_pred))\n",
    "print(\"OUTCOME DIABETIC\\n\")\n",
    "print(\"Mis-classification(1-accuracy)\",(cm[0][1]+cm[1][0])/(cm[0][0]+cm[0][1]+cm[1][0]+cm[1][1]))\n",
    "Sensitivity=cm[1][1]/(cm[1][1]+cm[1][0])\n",
    "print(\"sensitivity\",Sensitivity)\n",
    "print(\"Specificity(TNR):\",cm[0][0]/(cm[0][0]+cm[0][1]))\n",
    "Precision=cm[1][1]/(cm[1][1]+cm[0][1])\n",
    "print(\"precision\",Precision)\n",
    "print(\"f1 score\",2*Precision*Sensitivity/(Precision+Sensitivity))\n",
    "\n",
    "print(\"OUTCOME NON DIABETIC\")\n",
    "print(\"Mis-classification(1-accuracy)\",(cm[0][1]+cm[1][0])/(cm[0][0]+cm[0][1]+cm[1][0]+cm[1][1]))\n",
    "Sensitivity=cm[0][0]/(cm[0][0]+cm[0][1])\n",
    "print(\"sensitivity\",Sensitivity)\n",
    "print(\"Specificity(TNR):\",cm[1][1]/(cm[1][1]+cm[1][0]))\n",
    "Precision=cm[0][0]/(cm[0][0]+cm[1][0])\n",
    "print(\"precision\",Precision)\n",
    "print(\"f1 score\",2*Precision*Sensitivity/(Precision+Sensitivity))\n"
   ]
  },
  {
   "cell_type": "code",
   "execution_count": 35,
   "id": "be34fbcc",
   "metadata": {},
   "outputs": [
    {
     "name": "stdout",
     "output_type": "stream",
     "text": [
      "[[109  16]\n",
      " [ 28  39]]\n",
      "0.7708333333333334\n",
      "OUTCOME DIABETIC\n",
      "\n",
      "Mis-classification(1-accuracy) 0.22916666666666666\n",
      "sensitivity 0.582089552238806\n",
      "Specificity(TNR): 0.872\n",
      "precision 0.7090909090909091\n",
      "f1 score 0.6393442622950819\n",
      "OUTCOME NON DIABETIC\n",
      "Mis-classification(1-accuracy) 0.22916666666666666\n",
      "sensitivity 0.872\n",
      "Specificity(TNR): 0.582089552238806\n",
      "precision 0.7956204379562044\n",
      "f1 score 0.83206106870229\n"
     ]
    }
   ],
   "source": [
    "#SVM with linear kernel on all features\n",
    "classifier=SVC(kernel=\"linear\",C=10)\n",
    "classifier.fit(X_train,y_train)\n",
    "y_pred=classifier.predict(X_test)\n",
    "cm=confusion_matrix(y_test,y_pred)\n",
    "print(cm)\n",
    "print(accuracy_score(y_test,y_pred))\n",
    "print(\"OUTCOME DIABETIC\\n\")\n",
    "print(\"Mis-classification(1-accuracy)\",(cm[0][1]+cm[1][0])/(cm[0][0]+cm[0][1]+cm[1][0]+cm[1][1]))\n",
    "Sensitivity=cm[1][1]/(cm[1][1]+cm[1][0])\n",
    "print(\"sensitivity\",Sensitivity)\n",
    "print(\"Specificity(TNR):\",cm[0][0]/(cm[0][0]+cm[0][1]))\n",
    "Precision=cm[1][1]/(cm[1][1]+cm[0][1])\n",
    "print(\"precision\",Precision)\n",
    "print(\"f1 score\",2*Precision*Sensitivity/(Precision+Sensitivity))\n",
    "\n",
    "print(\"OUTCOME NON DIABETIC\")\n",
    "print(\"Mis-classification(1-accuracy)\",(cm[0][1]+cm[1][0])/(cm[0][0]+cm[0][1]+cm[1][0]+cm[1][1]))\n",
    "Sensitivity=cm[0][0]/(cm[0][0]+cm[0][1])\n",
    "print(\"sensitivity\",Sensitivity)\n",
    "print(\"Specificity(TNR):\",cm[1][1]/(cm[1][1]+cm[1][0]))\n",
    "Precision=cm[0][0]/(cm[0][0]+cm[1][0])\n",
    "print(\"precision\",Precision)\n",
    "print(\"f1 score\",2*Precision*Sensitivity/(Precision+Sensitivity))\n",
    "\n"
   ]
  },
  {
   "cell_type": "code",
   "execution_count": 36,
   "id": "cb6708c1",
   "metadata": {},
   "outputs": [
    {
     "name": "stdout",
     "output_type": "stream",
     "text": [
      "[[103  22]\n",
      " [ 18  49]]\n",
      "0.7916666666666666\n",
      "OUTCOME DIABETIC\n",
      "\n",
      "Mis-classification(1-accuracy) 0.20833333333333334\n",
      "sensitivity 0.7313432835820896\n",
      "Specificity(TNR): 0.824\n",
      "precision 0.6901408450704225\n",
      "f1 score 0.7101449275362318\n",
      "OUTCOME NON DIABETIC\n",
      "Mis-classification(1-accuracy) 0.20833333333333334\n",
      "sensitivity 0.824\n",
      "Specificity(TNR): 0.7313432835820896\n",
      "precision 0.8512396694214877\n",
      "f1 score 0.83739837398374\n"
     ]
    }
   ],
   "source": [
    "#SVM with radial basis function on all features\n",
    "classifierrbf=SVC(kernel=\"rbf\",C=13).fit(X_train,y_train)\n",
    "\n",
    "y_pred=classifierrbf.predict(X_test)\n",
    "cm=confusion_matrix(y_test,y_pred)\n",
    "print(cm)\n",
    "print(accuracy_score(y_test,y_pred))\n",
    "print(\"OUTCOME DIABETIC\\n\")\n",
    "print(\"Mis-classification(1-accuracy)\",(cm[0][1]+cm[1][0])/(cm[0][0]+cm[0][1]+cm[1][0]+cm[1][1]))\n",
    "Sensitivity=cm[1][1]/(cm[1][1]+cm[1][0])\n",
    "print(\"sensitivity\",Sensitivity)\n",
    "print(\"Specificity(TNR):\",cm[0][0]/(cm[0][0]+cm[0][1]))\n",
    "Precision=cm[1][1]/(cm[1][1]+cm[0][1])\n",
    "print(\"precision\",Precision)\n",
    "print(\"f1 score\",2*Precision*Sensitivity/(Precision+Sensitivity))\n",
    "\n",
    "print(\"OUTCOME NON DIABETIC\")\n",
    "print(\"Mis-classification(1-accuracy)\",(cm[0][1]+cm[1][0])/(cm[0][0]+cm[0][1]+cm[1][0]+cm[1][1]))\n",
    "Sensitivity=cm[0][0]/(cm[0][0]+cm[0][1])\n",
    "print(\"sensitivity\",Sensitivity)\n",
    "print(\"Specificity(TNR):\",cm[1][1]/(cm[1][1]+cm[1][0]))\n",
    "Precision=cm[0][0]/(cm[0][0]+cm[1][0])\n",
    "print(\"precision\",Precision)\n",
    "print(\"f1 score\",2*Precision*Sensitivity/(Precision+Sensitivity))\n"
   ]
  },
  {
   "cell_type": "code",
   "execution_count": 37,
   "id": "fa2e991d",
   "metadata": {},
   "outputs": [
    {
     "name": "stdout",
     "output_type": "stream",
     "text": [
      "Accuracy of SVM classifier with linear kernel in K fold Cross Validation: 77.25 % standard deviation :4.31%\n",
      "Accuracy of SVM classifier with rbf kernel in K fold Cross Validation: 71.50 % standard deviation :5.93%\n"
     ]
    }
   ],
   "source": [
    "accuracies=cross_val_score(estimator=classifier,X=X_train,y=y_train,cv=10)\n",
    "print(\"Accuracy of SVM classifier with linear kernel in K fold Cross Validation: {:.2f} %\".format(accuracies.mean()*100),\n",
    "                         \"standard deviation :{:.2f}%\".format(accuracies.std()*100))\n",
    "\n",
    "accuracies=cross_val_score(estimator=classifierrbf,X=X_train,y=y_train,cv=10)\n",
    "print(\"Accuracy of SVM classifier with rbf kernel in K fold Cross Validation: {:.2f} %\".format(accuracies.mean()*100),\n",
    "                         \"standard deviation :{:.2f}%\".format(accuracies.std()*100))"
   ]
  },
  {
   "cell_type": "code",
   "execution_count": 64,
   "id": "2dceffff",
   "metadata": {},
   "outputs": [
    {
     "data": {
      "text/plain": [
       "<matplotlib.legend.Legend at 0x1a9e93fc460>"
      ]
     },
     "execution_count": 64,
     "metadata": {},
     "output_type": "execute_result"
    },
    {
     "data": {
      "image/png": "[encoded data removed]",
      "text/plain": [
       "<Figure size 432x288 with 1 Axes>"
      ]
     },
     "metadata": {
      "needs_background": "light"
     },
     "output_type": "display_data"
    }
   ],
   "source": [
    "from sklearn.neighbors import KNeighborsClassifier\n",
    "training_accuracy=[]\n",
    "test_accuracy=[]\n",
    "neighbors_settings=range(1,20)\n",
    "\n",
    "for n_neighbors in neighbors_settings:\n",
    "           classifier=KNeighborsClassifier(n_neighbors=n_neighbors)\n",
    "           classifier.fit(X_train,y_train)\n",
    "           training_accuracy.append(classifier.score(X_train,y_train))\n",
    "           test_accuracy.append(classifier.score(X_test,y_test))\n",
    "            \n",
    "plt.plot(neighbors_settings,training_accuracy,label=\"training accuracy\")\n",
    "plt.plot(neighbors_settings,test_accuracy,label=\"test accuracy\")\n",
    "plt.ylabel(\"Accuracy\")\n",
    "plt.xlabel(\"n_neighbors\")\n",
    "plt.legend()"
   ]
  },
  {
   "cell_type": "code",
   "execution_count": 65,
   "id": "84ebbd98",
   "metadata": {},
   "outputs": [],
   "source": [
    "# for n_neighbors=13 training and test set show better accuracy\n",
    "knnclassifier=KNeighborsClassifier(n_neighbors=13)"
   ]
  },
  {
   "cell_type": "code",
   "execution_count": 66,
   "id": "274ab162",
   "metadata": {},
   "outputs": [
    {
     "name": "stdout",
     "output_type": "stream",
     "text": [
      "Training set score 0.7465277777777778\n",
      "Test set score 0.7395833333333334\n"
     ]
    }
   ],
   "source": [
    "#training KNN model on glucose and insulin feature\n",
    "knnclassifier.fit(X_train1,y_train1)\n",
    "print(\"Training set score\",knnclassifier.score(X_train1,y_train1))\n",
    "print(\"Test set score\",knnclassifier.score(X_test1,y_test1))"
   ]
  },
  {
   "cell_type": "code",
   "execution_count": 67,
   "id": "129894fc",
   "metadata": {},
   "outputs": [
    {
     "name": "stdout",
     "output_type": "stream",
     "text": [
      "6.05388091473235 48.238905266930416\n"
     ]
    },
    {
     "name": "stderr",
     "output_type": "stream",
     "text": [
      "*c* argument looks like a single numeric RGB or RGBA sequence, which should be avoided as value-mapping will have precedence in case its length matches with *x* & *y*.  Please use the *color* keyword-argument or provide a 2D array with a single row if you intend to specify the same RGB or RGBA value for all points.\n",
      "*c* argument looks like a single numeric RGB or RGBA sequence, which should be avoided as value-mapping will have precedence in case its length matches with *x* & *y*.  Please use the *color* keyword-argument or provide a 2D array with a single row if you intend to specify the same RGB or RGBA value for all points.\n"
     ]
    },
    {
     "data": {
      "image/png": "[encoded data removed]",
      "text/plain": [
       "<Figure size 432x288 with 1 Axes>"
      ]
     },
     "metadata": {
      "needs_background": "light"
     },
     "output_type": "display_data"
    }
   ],
   "source": [
    "from matplotlib.colors import ListedColormap\n",
    "X_set, y_set = sc1.inverse_transform(X_test1), y_test1\n",
    "print(X_set[:,0].min(),X_set[:,0].max())\n",
    "X1, X2 = np.meshgrid(np.arange(start = X_set[:, 0].min(), stop = X_set[:, 0].max(), step = 0.25),\n",
    "                     np.arange(start = X_set[:, 1].min(), stop = X_set[:, 1].max(), step = 0.25))\n",
    "plt.contourf(X1, X2, knnclassifier.predict(sc1.transform(np.array([X1.ravel(), X2.ravel()]).T)).reshape(X1.shape),\n",
    "             alpha = 0.75, cmap = ListedColormap(('red', 'green')))\n",
    "plt.xlim(X1.min(), X1.max())\n",
    "plt.ylim(X2.min(), X2.max())\n",
    "for i, j in enumerate(np.unique(y_set)):\n",
    "    plt.scatter(X_set[y_set == j, 0], X_set[y_set == j, 1], c = ListedColormap(('red', 'green'))(i), label = j)\n",
    "plt.title('KNN Classification (Test set)')\n",
    "plt.xlabel('Glucose')\n",
    "plt.ylabel('Insulin')\n",
    "plt.legend()\n",
    "plt.show()"
   ]
  },
  {
   "cell_type": "code",
   "execution_count": 68,
   "id": "a4192bfd",
   "metadata": {},
   "outputs": [
    {
     "name": "stdout",
     "output_type": "stream",
     "text": [
      "Training set score 0.7638888888888888\n",
      "Test set score 0.7916666666666666\n"
     ]
    }
   ],
   "source": [
    "#training KNN model on all features\n",
    "knnclassifier.fit(X_train,y_train)"
   ]
  },
  {
   "cell_type": "code",
   "execution_count": 69,
   "id": "f2a5de69",
   "metadata": {},
   "outputs": [
    {
     "name": "stdout",
     "output_type": "stream",
     "text": [
      "Accuracy of KNN classifier in K fold cross validation: 72.91 % standard deviation :5.67%\n"
     ]
    }
   ],
   "source": [
    "from sklearn.model_selection import cross_val_score\n",
    "accuracies=cross_val_score(estimator=knnclassifier,X=X_train,y=y_train,cv=10)\n",
    "print(\"Accuracy of KNN classifier in K fold cross validation: {:.2f} %\".format(accuracies.mean()*100),\n",
    "                         \"standard deviation :{:.2f}%\".format(accuracies.std()*100))\n"
   ]
  },
  {
   "cell_type": "code",
   "execution_count": 70,
   "id": "e8434416",
   "metadata": {},
   "outputs": [
    {
     "name": "stdout",
     "output_type": "stream",
     "text": [
      "[[109  16]\n",
      " [ 24  43]]\n",
      "0.7916666666666666\n",
      "OUTCOME DIABETIC\n",
      "\n",
      "Mis-classification(1-accuracy) 0.20833333333333334\n",
      "sensitivity 0.6417910447761194\n",
      "Specificity(TNR): 0.872\n",
      "precision 0.7288135593220338\n",
      "f1 score 0.6825396825396826\n",
      "OUTCOME NON DIABETIC\n",
      "Mis-classification(1-accuracy) 0.20833333333333334\n",
      "sensitivity 0.872\n",
      "Specificity(TNR): 0.6417910447761194\n",
      "precision 0.8195488721804511\n",
      "f1 score 0.8449612403100776\n"
     ]
    }
   ],
   "source": [
    "y_pred=knnclassifier.predict(X_test)\n",
    "cm=confusion_matrix(y_test,y_pred)\n",
    "print(cm)\n",
    "print(accuracy_score(y_test,y_pred))\n",
    "\n",
    "print(\"OUTCOME DIABETIC\\n\")\n",
    "print(\"Mis-classification(1-accuracy)\",(cm[0][1]+cm[1][0])/(cm[0][0]+cm[0][1]+cm[1][0]+cm[1][1]))\n",
    "Sensitivity=cm[1][1]/(cm[1][1]+cm[1][0])\n",
    "print(\"sensitivity\",Sensitivity)\n",
    "print(\"Specificity(TNR):\",cm[0][0]/(cm[0][0]+cm[0][1]))\n",
    "Precision=cm[1][1]/(cm[1][1]+cm[0][1])\n",
    "print(\"precision\",Precision)\n",
    "print(\"f1 score\",2*Precision*Sensitivity/(Precision+Sensitivity))\n",
    "\n",
    "print(\"OUTCOME NON DIABETIC\")\n",
    "print(\"Mis-classification(1-accuracy)\",(cm[0][1]+cm[1][0])/(cm[0][0]+cm[0][1]+cm[1][0]+cm[1][1]))\n",
    "Sensitivity=cm[0][0]/(cm[0][0]+cm[0][1])\n",
    "print(\"sensitivity\",Sensitivity)\n",
    "print(\"Specificity(TNR):\",cm[1][1]/(cm[1][1]+cm[1][0]))\n",
    "Precision=cm[0][0]/(cm[0][0]+cm[1][0])\n",
    "print(\"precision\",Precision)\n",
    "print(\"f1 score\",2*Precision*Sensitivity/(Precision+Sensitivity))\n"
   ]
  },
  {
   "cell_type": "code",
   "execution_count": 71,
   "id": "411c17ff",
   "metadata": {},
   "outputs": [
    {
     "name": "stdout",
     "output_type": "stream",
     "text": [
      "[[103  34]\n",
      " [ 22  33]]\n",
      "0.7083333333333334\n"
     ]
    }
   ],
   "source": [
    "#training decision tree on glucose and insulin features\n",
    "from sklearn.tree import DecisionTreeClassifier\n",
    "dtclassifier=DecisionTreeClassifier(criterion='entropy',splitter='best',random_state=0)\n",
    "dtclassifier.fit(X_train1,y_train1)\n",
    "y_pred=dtclassifier.predict(X_test1)\n",
    "cm=confusion_matrix(y_pred,y_test1)\n",
    "print(cm)\n",
    "print(accuracy_score(y_pred,y_test1))\n"
   ]
  },
  {
   "cell_type": "code",
   "execution_count": 72,
   "id": "25e80159",
   "metadata": {},
   "outputs": [
    {
     "name": "stderr",
     "output_type": "stream",
     "text": [
      "*c* argument looks like a single numeric RGB or RGBA sequence, which should be avoided as value-mapping will have precedence in case its length matches with *x* & *y*.  Please use the *color* keyword-argument or provide a 2D array with a single row if you intend to specify the same RGB or RGBA value for all points.\n",
      "*c* argument looks like a single numeric RGB or RGBA sequence, which should be avoided as value-mapping will have precedence in case its length matches with *x* & *y*.  Please use the *color* keyword-argument or provide a 2D array with a single row if you intend to specify the same RGB or RGBA value for all points.\n"
     ]
    },
    {
     "name": "stdout",
     "output_type": "stream",
     "text": [
      "6.05388091473235 48.238905266930416\n"
     ]
    },
    {
     "data": {
      "image/png": "[encoded data removed]",
      "text/plain": [
       "<Figure size 432x288 with 1 Axes>"
      ]
     },
     "metadata": {
      "needs_background": "light"
     },
     "output_type": "display_data"
    }
   ],
   "source": [
    "from matplotlib.colors import ListedColormap\n",
    "X_set, y_set = sc1.inverse_transform(X_test1), y_test1\n",
    "print(X_set[:,0].min(),X_set[:,0].max())\n",
    "X1, X2 = np.meshgrid(np.arange(start = X_set[:, 0].min(), stop = X_set[:, 0].max(), step = 0.25),\n",
    "                     np.arange(start = X_set[:, 1].min(), stop = X_set[:, 1].max(), step = 0.25))\n",
    "plt.contourf(X1, X2, dtclassifier.predict(sc1.transform(np.array([X1.ravel(), X2.ravel()]).T)).reshape(X1.shape),\n",
    "             alpha = 0.75, cmap = ListedColormap(('red', 'green')))\n",
    "plt.xlim(X1.min(), X1.max())\n",
    "plt.ylim(X2.min(), X2.max())\n",
    "for i, j in enumerate(np.unique(y_set)):\n",
    "    plt.scatter(X_set[y_set == j, 0], X_set[y_set == j, 1], c = ListedColormap(('red', 'green'))(i), label = j)\n",
    "plt.title('Decision tree Classification (Test set)')\n",
    "plt.xlabel('Glucose')\n",
    "plt.ylabel('Insulin')\n",
    "plt.legend()\n",
    "plt.show()"
   ]
  },
  {
   "cell_type": "code",
   "execution_count": 74,
   "id": "355e9670",
   "metadata": {},
   "outputs": [
    {
     "name": "stdout",
     "output_type": "stream",
     "text": [
      "[[95 30]\n",
      " [22 45]]\n",
      "Decision Tree Classifier Accuracy 0.7291666666666666\n",
      "OUTCOME DIABETIC\n",
      "\n",
      "Mis-classification(1-accuracy) 0.2708333333333333\n",
      "sensitivity 0.6716417910447762\n",
      "Specificity(TNR): 0.76\n",
      "precision 0.6\n",
      "f1 score 0.6338028169014084\n",
      "OUTCOME NON DIABETIC\n",
      "Mis-classification(1-accuracy) 0.2708333333333333\n",
      "sensitivity 0.76\n",
      "Specificity(TNR): 0.6716417910447762\n",
      "precision 0.811965811965812\n",
      "f1 score 0.7851239669421488\n"
     ]
    }
   ],
   "source": [
    "#training decision tree on all features\n",
    "from sklearn.tree import DecisionTreeClassifier\n",
    "dtclassifier=DecisionTreeClassifier(criterion='entropy',splitter='best',random_state=0)\n",
    "dtclassifier.fit(X_train,y_train)\n",
    "y_pred=dtclassifier.predict(X_test)\n",
    "\n",
    "cm=confusion_matrix(y_test,y_pred)\n",
    "print(cm)\n",
    "acc_dt=accuracy_score(y_test,y_pred)\n",
    "print(\"Decision Tree Classifier Accuracy\",acc_dt)\n",
    "\n",
    "print(\"OUTCOME DIABETIC\\n\")\n",
    "print(\"Mis-classification(1-accuracy)\",(cm[0][1]+cm[1][0])/(cm[0][0]+cm[0][1]+cm[1][0]+cm[1][1]))\n",
    "Sensitivity=cm[1][1]/(cm[1][1]+cm[1][0])\n",
    "print(\"sensitivity\",Sensitivity)\n",
    "print(\"Specificity(TNR):\",cm[0][0]/(cm[0][0]+cm[0][1]))\n",
    "Precision=cm[1][1]/(cm[1][1]+cm[0][1])\n",
    "print(\"precision\",Precision)\n",
    "print(\"f1 score\",2*Precision*Sensitivity/(Precision+Sensitivity))\n",
    "\n",
    "print(\"OUTCOME NON DIABETIC\")\n",
    "print(\"Mis-classification(1-accuracy)\",(cm[0][1]+cm[1][0])/(cm[0][0]+cm[0][1]+cm[1][0]+cm[1][1]))\n",
    "Sensitivity=cm[0][0]/(cm[0][0]+cm[0][1])\n",
    "print(\"sensitivity\",Sensitivity)\n",
    "print(\"Specificity(TNR):\",cm[1][1]/(cm[1][1]+cm[1][0]))\n",
    "Precision=cm[0][0]/(cm[0][0]+cm[1][0])\n",
    "print(\"precision\",Precision)\n",
    "print(\"f1 score\",2*Precision*Sensitivity/(Precision+Sensitivity))\n"
   ]
  },
  {
   "cell_type": "code",
   "execution_count": 75,
   "id": "85131e56",
   "metadata": {},
   "outputs": [
    {
     "name": "stdout",
     "output_type": "stream",
     "text": [
      "Accuracy of Decision Tree classifier in K fold Cross Validation: 73.95 % standard deviation :5.83%\n"
     ]
    }
   ],
   "source": [
    "from sklearn.model_selection import cross_val_score\n",
    "accuracies=cross_val_score(estimator=classifier,X=X_train,y=y_train,cv=10)\n",
    "print(\"Accuracy of Decision Tree classifier in K fold Cross Validation: {:.2f} %\".format(accuracies.mean()*100),\n",
    "                         \"standard deviation :{:.2f}%\".format(accuracies.std()*100))"
   ]
  },
  {
   "cell_type": "code",
   "execution_count": 82,
   "id": "b284f471",
   "metadata": {},
   "outputs": [
    {
     "name": "stdout",
     "output_type": "stream",
     "text": [
      "[[102  30]\n",
      " [ 23  37]]\n",
      "0.7239583333333334\n"
     ]
    }
   ],
   "source": [
    "#training random forest tree on glucose and insulin features\n",
    "from sklearn.ensemble import RandomForestClassifier\n",
    "rfclassifier=RandomForestClassifier(n_estimators=15,criterion='entropy',random_state=0)\n",
    "rfclassifier.fit(X_train1,y_train1)\n",
    "y_pred=rfclassifier.predict(X_test1)\n",
    "cm=confusion_matrix(y_pred,y_test1)\n",
    "print(cm)\n",
    "print(accuracy_score(y_pred,y_test1))\n"
   ]
  },
  {
   "cell_type": "code",
   "execution_count": 83,
   "id": "2fb99f21",
   "metadata": {},
   "outputs": [
    {
     "name": "stdout",
     "output_type": "stream",
     "text": [
      "6.05388091473235 48.238905266930416\n"
     ]
    },
    {
     "name": "stderr",
     "output_type": "stream",
     "text": [
      "*c* argument looks like a single numeric RGB or RGBA sequence, which should be avoided as value-mapping will have precedence in case its length matches with *x* & *y*.  Please use the *color* keyword-argument or provide a 2D array with a single row if you intend to specify the same RGB or RGBA value for all points.\n",
      "*c* argument looks like a single numeric RGB or RGBA sequence, which should be avoided as value-mapping will have precedence in case its length matches with *x* & *y*.  Please use the *color* keyword-argument or provide a 2D array with a single row if you intend to specify the same RGB or RGBA value for all points.\n"
     ]
    },
    {
     "data": {
      "image/png": "[encoded data removed]",
      "text/plain": [
       "<Figure size 432x288 with 1 Axes>"
      ]
     },
     "metadata": {
      "needs_background": "light"
     },
     "output_type": "display_data"
    }
   ],
   "source": [
    "from matplotlib.colors import ListedColormap\n",
    "X_set, y_set = sc1.inverse_transform(X_test1), y_test1\n",
    "print(X_set[:,0].min(),X_set[:,0].max())\n",
    "X1, X2 = np.meshgrid(np.arange(start = X_set[:, 0].min(), stop = X_set[:, 0].max(), step = 0.25),\n",
    "                     np.arange(start = X_set[:, 1].min(), stop = X_set[:, 1].max(), step = 0.25))\n",
    "plt.contourf(X1, X2, rfclassifier.predict(sc1.transform(np.array([X1.ravel(), X2.ravel()]).T)).reshape(X1.shape),\n",
    "             alpha = 0.75, cmap = ListedColormap(('red', 'green')))\n",
    "plt.xlim(X1.min(), X1.max())\n",
    "plt.ylim(X2.min(), X2.max())\n",
    "for i, j in enumerate(np.unique(y_set)):\n",
    "    plt.scatter(X_set[y_set == j, 0], X_set[y_set == j, 1], c = ListedColormap(('red', 'green'))(i), label = j)\n",
    "plt.title('Random Forest Classification (Test set)')\n",
    "plt.xlabel('Glucose')\n",
    "plt.ylabel('Insulin')\n",
    "plt.legend()\n",
    "plt.show()"
   ]
  },
  {
   "cell_type": "code",
   "execution_count": 86,
   "id": "ef3258c6",
   "metadata": {},
   "outputs": [
    {
     "name": "stdout",
     "output_type": "stream",
     "text": [
      "[[102  23]\n",
      " [ 22  45]]\n",
      "0.765625\n",
      "OUTCOME DIABETIC\n",
      "\n",
      "Mis-classification(1-accuracy) 0.234375\n",
      "sensitivity 0.6716417910447762\n",
      "Specificity(TNR): 0.816\n",
      "precision 0.6617647058823529\n",
      "f1 score 0.6666666666666667\n",
      "OUTCOME NON DIABETIC\n",
      "Mis-classification(1-accuracy) 0.234375\n",
      "sensitivity 0.816\n",
      "Specificity(TNR): 0.6716417910447762\n",
      "precision 0.8225806451612904\n",
      "f1 score 0.8192771084337349\n"
     ]
    }
   ],
   "source": [
    "#trained random forest on all features\n",
    "rfclassifier=RandomForestClassifier(n_estimators=25,criterion='entropy',random_state=0)\n",
    "rfclassifier.fit(X_train,y_train)\n",
    "\n",
    "y_pred=rfclassifier.predict(X_test)\n",
    "\n",
    "cm=confusion_matrix(y_test,y_pred)\n",
    "print(cm)\n",
    "acc_dt=accuracy_score(y_test,y_pred)\n",
    "print(acc_dt)\n",
    "print(\"OUTCOME DIABETIC\\n\")\n",
    "print(\"Mis-classification(1-accuracy)\",(cm[0][1]+cm[1][0])/(cm[0][0]+cm[0][1]+cm[1][0]+cm[1][1]))\n",
    "Sensitivity=cm[1][1]/(cm[1][1]+cm[1][0])\n",
    "print(\"sensitivity\",Sensitivity)\n",
    "print(\"Specificity(TNR):\",cm[0][0]/(cm[0][0]+cm[0][1]))\n",
    "Precision=cm[1][1]/(cm[1][1]+cm[0][1])\n",
    "print(\"precision\",Precision)\n",
    "print(\"f1 score\",2*Precision*Sensitivity/(Precision+Sensitivity))\n",
    "\n",
    "print(\"OUTCOME NON DIABETIC\")\n",
    "print(\"Mis-classification(1-accuracy)\",(cm[0][1]+cm[1][0])/(cm[0][0]+cm[0][1]+cm[1][0]+cm[1][1]))\n",
    "Sensitivity=cm[0][0]/(cm[0][0]+cm[0][1])\n",
    "print(\"sensitivity\",Sensitivity)\n",
    "print(\"Specificity(TNR):\",cm[1][1]/(cm[1][1]+cm[1][0]))\n",
    "Precision=cm[0][0]/(cm[0][0]+cm[1][0])\n",
    "print(\"precision\",Precision)\n",
    "print(\"f1 score\",2*Precision*Sensitivity/(Precision+Sensitivity))\n"
   ]
  },
  {
   "cell_type": "code",
   "execution_count": 87,
   "id": "8b9d17d2",
   "metadata": {},
   "outputs": [
    {
     "name": "stdout",
     "output_type": "stream",
     "text": [
      "Accuracy of Random Forest classifier in K fold Cross Validation: 74.30 % standard deviation :4.90%\n"
     ]
    }
   ],
   "source": [
    "from sklearn.model_selection import cross_val_score\n",
    "accuracies=cross_val_score(estimator=rfclassifier,X=X_train,y=y_train,cv=10)\n",
    "print(\"Accuracy of Random Forest classifier in K fold Cross Validation: {:.2f} %\".format(accuracies.mean()*100),\n",
    "                         \"standard deviation :{:.2f}%\".format(accuracies.std()*100))"
   ]
  },
  {
   "cell_type": "code",
   "execution_count": 88,
   "id": "d4c5305a",
   "metadata": {},
   "outputs": [
    {
     "name": "stdout",
     "output_type": "stream",
     "text": [
      "[19:07:27] WARNING: ..\\src\\learner.cc:1115: Starting in XGBoost 1.3.0, the default evaluation metric used with the objective 'binary:logistic' was changed from 'error' to 'logloss'. Explicitly set eval_metric if you'd like to restore the old behavior.\n",
      "[[106  35]\n",
      " [ 19  32]]\n",
      "0.71875\n"
     ]
    },
    {
     "name": "stderr",
     "output_type": "stream",
     "text": [
      "C:\\Users\\Hp\\anaconda3\\envs\\tf\\lib\\site-packages\\xgboost\\sklearn.py:1224: UserWarning: The use of label encoder in XGBClassifier is deprecated and will be removed in a future release. To remove this warning, do the following: 1) Pass option use_label_encoder=False when constructing XGBClassifier object; and 2) Encode your labels (y) as integers starting with 0, i.e. 0, 1, 2, ..., [num_class - 1].\n",
      "  warnings.warn(label_encoder_deprecation_msg, UserWarning)\n"
     ]
    }
   ],
   "source": [
    "#trained XGBoost on glucose and insulin features\n",
    "from xgboost import XGBClassifier\n",
    "xgbclassifier=XGBClassifier()\n",
    "xgbclassifier.fit(X_train1,y_train1)\n",
    "y_pred=xgbclassifier.predict(X_test1)\n",
    "cm=confusion_matrix(y_pred,y_test1)\n",
    "print(cm)\n",
    "print(accuracy_score(y_pred,y_test1))\n"
   ]
  },
  {
   "cell_type": "code",
   "execution_count": 89,
   "id": "eb44defe",
   "metadata": {},
   "outputs": [
    {
     "name": "stderr",
     "output_type": "stream",
     "text": [
      "*c* argument looks like a single numeric RGB or RGBA sequence, which should be avoided as value-mapping will have precedence in case its length matches with *x* & *y*.  Please use the *color* keyword-argument or provide a 2D array with a single row if you intend to specify the same RGB or RGBA value for all points.\n",
      "*c* argument looks like a single numeric RGB or RGBA sequence, which should be avoided as value-mapping will have precedence in case its length matches with *x* & *y*.  Please use the *color* keyword-argument or provide a 2D array with a single row if you intend to specify the same RGB or RGBA value for all points.\n"
     ]
    },
    {
     "name": "stdout",
     "output_type": "stream",
     "text": [
      "6.05388091473235 48.238905266930416\n"
     ]
    },
    {
     "data": {
      "image/png": "[encoded data removed]",
      "text/plain": [
       "<Figure size 432x288 with 1 Axes>"
      ]
     },
     "metadata": {
      "needs_background": "light"
     },
     "output_type": "display_data"
    }
   ],
   "source": [
    "from matplotlib.colors import ListedColormap\n",
    "X_set, y_set = sc1.inverse_transform(X_test1), y_test1\n",
    "print(X_set[:,0].min(),X_set[:,0].max())\n",
    "X1, X2 = np.meshgrid(np.arange(start = X_set[:, 0].min(), stop = X_set[:, 0].max(), step = 0.25),\n",
    "                     np.arange(start = X_set[:, 1].min(), stop = X_set[:, 1].max(), step = 0.25))\n",
    "plt.contourf(X1, X2, xgbclassifier.predict(sc1.transform(np.array([X1.ravel(), X2.ravel()]).T)).reshape(X1.shape),\n",
    "             alpha = 0.75, cmap = ListedColormap(('red', 'green')))\n",
    "plt.xlim(X1.min(), X1.max())\n",
    "plt.ylim(X2.min(), X2.max())\n",
    "for i, j in enumerate(np.unique(y_set)):\n",
    "    plt.scatter(X_set[y_set == j, 0], X_set[y_set == j, 1], c = ListedColormap(('red', 'green'))(i), label = j)\n",
    "plt.title('XGBoost Classification (Test set)')\n",
    "plt.xlabel('Glucose')\n",
    "plt.ylabel('Insulin')\n",
    "plt.legend()\n",
    "plt.show()"
   ]
  },
  {
   "cell_type": "code",
   "execution_count": 90,
   "id": "eaf3d487",
   "metadata": {},
   "outputs": [
    {
     "name": "stderr",
     "output_type": "stream",
     "text": [
      "C:\\Users\\Hp\\anaconda3\\envs\\tf\\lib\\site-packages\\xgboost\\sklearn.py:1224: UserWarning: The use of label encoder in XGBClassifier is deprecated and will be removed in a future release. To remove this warning, do the following: 1) Pass option use_label_encoder=False when constructing XGBClassifier object; and 2) Encode your labels (y) as integers starting with 0, i.e. 0, 1, 2, ..., [num_class - 1].\n",
      "  warnings.warn(label_encoder_deprecation_msg, UserWarning)\n"
     ]
    },
    {
     "name": "stdout",
     "output_type": "stream",
     "text": [
      "[19:08:15] WARNING: ..\\src\\learner.cc:1115: Starting in XGBoost 1.3.0, the default evaluation metric used with the objective 'binary:logistic' was changed from 'error' to 'logloss'. Explicitly set eval_metric if you'd like to restore the old behavior.\n",
      "[[102  23]\n",
      " [ 20  47]]\n",
      "XGBoost Accuracy 0.7760416666666666\n",
      "OUTCOME DIABETIC\n",
      "\n",
      "Mis-classification(1-accuracy) 0.22395833333333334\n",
      "sensitivity 0.7014925373134329\n",
      "Specificity(TNR): 0.816\n",
      "precision 0.6714285714285714\n",
      "f1 score 0.6861313868613139\n",
      "OUTCOME NON DIABETIC\n",
      "Mis-classification(1-accuracy) 0.22395833333333334\n",
      "sensitivity 0.816\n",
      "Specificity(TNR): 0.7014925373134329\n",
      "precision 0.8360655737704918\n",
      "f1 score 0.8259109311740891\n"
     ]
    }
   ],
   "source": [
    "xgbclassifier.fit(X_train,y_train)\n",
    "y_pred=xgbclassifier.predict(X_test)\n",
    "cm=confusion_matrix(y_test,y_pred)\n",
    "print(cm)\n",
    "acc_dt=accuracy_score(y_test,y_pred)\n",
    "print(\"XGBoost Accuracy\",acc_dt)\n",
    "print(\"OUTCOME DIABETIC\\n\")\n",
    "print(\"Mis-classification(1-accuracy)\",(cm[0][1]+cm[1][0])/(cm[0][0]+cm[0][1]+cm[1][0]+cm[1][1]))\n",
    "Sensitivity=cm[1][1]/(cm[1][1]+cm[1][0])\n",
    "print(\"sensitivity\",Sensitivity)\n",
    "print(\"Specificity(TNR):\",cm[0][0]/(cm[0][0]+cm[0][1]))\n",
    "Precision=cm[1][1]/(cm[1][1]+cm[0][1])\n",
    "print(\"precision\",Precision)\n",
    "print(\"f1 score\",2*Precision*Sensitivity/(Precision+Sensitivity))\n",
    "\n",
    "print(\"OUTCOME NON DIABETIC\")\n",
    "print(\"Mis-classification(1-accuracy)\",(cm[0][1]+cm[1][0])/(cm[0][0]+cm[0][1]+cm[1][0]+cm[1][1]))\n",
    "Sensitivity=cm[0][0]/(cm[0][0]+cm[0][1])\n",
    "print(\"sensitivity\",Sensitivity)\n",
    "print(\"Specificity(TNR):\",cm[1][1]/(cm[1][1]+cm[1][0]))\n",
    "Precision=cm[0][0]/(cm[0][0]+cm[1][0])\n",
    "print(\"precision\",Precision)\n",
    "print(\"f1 score\",2*Precision*Sensitivity/(Precision+Sensitivity))\n"
   ]
  },
  {
   "cell_type": "code",
   "execution_count": 91,
   "id": "72ba88e5",
   "metadata": {},
   "outputs": [
    {
     "name": "stdout",
     "output_type": "stream",
     "text": [
      "Accuracy of xgboost classifier in K fold cross validation: 73.95 % standard deviation :5.83%\n"
     ]
    }
   ],
   "source": [
    "accuracies=cross_val_score(estimator=classifier,X=X_train,y=y_train,cv=10)\n",
    "print(\"Accuracy of xgboost classifier in K fold cross validation: {:.2f} %\".format(accuracies.mean()*100),\n",
    "                         \"standard deviation :{:.2f}%\".format(accuracies.std()*100))\n"
   ]
  },
  {
   "cell_type": "code",
   "execution_count": 92,
   "id": "7f26e12f",
   "metadata": {},
   "outputs": [],
   "source": [
    "import tensorflow as tf"
   ]
  },
  {
   "cell_type": "code",
   "execution_count": 102,
   "id": "ffb77d30",
   "metadata": {},
   "outputs": [],
   "source": [
    "#Building ANN\n",
    "def getModel():\n",
    "    ann = tf.keras.models.Sequential()\n",
    "    ann.add(tf.keras.layers.Dense(8, activation='relu'))\n",
    "    ann.add(tf.keras.layers.Dense(8, activation='relu'))\n",
    "    \n",
    "    ann.add(tf.keras.layers.Dense(8, activation='relu'))\n",
    "    ann.add(tf.keras.layers.Dense(8, activation='relu'))\n",
    "    ann.add(tf.keras.layers.Dense(8, activation='relu'))\n",
    "    ann.add(tf.keras.layers.Dense(8, activation='relu'))\n",
    "    ann.add(tf.keras.layers.Dense(8, activation='relu'))\n",
    "    ann.add(tf.keras.layers.Dense(8, activation='relu'))\n",
    "    ann.add(tf.keras.layers.Dense(8, activation='relu'))\n",
    "    ann.add(tf.keras.layers.Dense(8, activation='relu'))\n",
    "    ann.add(tf.keras.layers.Dense(8, activation='relu'))\n",
    "    \n",
    "    ann.add(tf.keras.layers.Dense(1, activation='sigmoid'))\n",
    "    ann.compile(optimizer='adam' , loss = tf.losses.binary_crossentropy , metrics=['accuracy'])\n",
    "    return ann\n",
    "\n",
    "\n",
    "\n",
    "\n",
    "\n",
    "param_grid = dict(epochs=100, optimizer='adam')\n",
    "\n",
    "Kmodel = tf.keras.wrappers.scikit_learn.KerasClassifier(build_fn=getModel, verbose=1)\n"
   ]
  },
  {
   "cell_type": "code",
   "execution_count": 103,
   "id": "db9c483e",
   "metadata": {},
   "outputs": [
    {
     "name": "stdout",
     "output_type": "stream",
     "text": [
      "Epoch 1/100\n",
      "18/18 [==============================] - 2s 3ms/step - loss: 0.6902 - accuracy: 0.6198\n",
      "Epoch 2/100\n",
      "18/18 [==============================] - 0s 3ms/step - loss: 0.6818 - accuracy: 0.6510\n",
      "Epoch 3/100\n",
      "18/18 [==============================] - 0s 4ms/step - loss: 0.6699 - accuracy: 0.6858\n",
      "Epoch 4/100\n",
      "18/18 [==============================] - 0s 4ms/step - loss: 0.6529 - accuracy: 0.7153\n",
      "Epoch 5/100\n",
      "18/18 [==============================] - 0s 4ms/step - loss: 0.6283 - accuracy: 0.7396\n",
      "Epoch 6/100\n",
      "18/18 [==============================] - 0s 3ms/step - loss: 0.5960 - accuracy: 0.7413\n",
      "Epoch 7/100\n",
      "18/18 [==============================] - 0s 3ms/step - loss: 0.5647 - accuracy: 0.7431\n",
      "Epoch 8/100\n",
      "18/18 [==============================] - 0s 4ms/step - loss: 0.5473 - accuracy: 0.7465\n",
      "Epoch 9/100\n",
      "18/18 [==============================] - 0s 3ms/step - loss: 0.5384 - accuracy: 0.7413\n",
      "Epoch 10/100\n",
      "18/18 [==============================] - 0s 3ms/step - loss: 0.5367 - accuracy: 0.7413\n",
      "Epoch 11/100\n",
      "18/18 [==============================] - 0s 3ms/step - loss: 0.5290 - accuracy: 0.7465\n",
      "Epoch 12/100\n",
      "18/18 [==============================] - 0s 3ms/step - loss: 0.5267 - accuracy: 0.7465\n",
      "Epoch 13/100\n",
      "18/18 [==============================] - 0s 4ms/step - loss: 0.5265 - accuracy: 0.7448\n",
      "Epoch 14/100\n",
      "18/18 [==============================] - 0s 4ms/step - loss: 0.5263 - accuracy: 0.7413\n",
      "Epoch 15/100\n",
      "18/18 [==============================] - 0s 3ms/step - loss: 0.5226 - accuracy: 0.7500\n",
      "Epoch 16/100\n",
      "18/18 [==============================] - 0s 3ms/step - loss: 0.5195 - accuracy: 0.7431\n",
      "Epoch 17/100\n",
      "18/18 [==============================] - 0s 3ms/step - loss: 0.5179 - accuracy: 0.7465\n",
      "Epoch 18/100\n",
      "18/18 [==============================] - 0s 4ms/step - loss: 0.5207 - accuracy: 0.7431\n",
      "Epoch 19/100\n",
      "18/18 [==============================] - 0s 4ms/step - loss: 0.5253 - accuracy: 0.7413\n",
      "Epoch 20/100\n",
      "18/18 [==============================] - 0s 4ms/step - loss: 0.5163 - accuracy: 0.7483\n",
      "Epoch 21/100\n",
      "18/18 [==============================] - 0s 3ms/step - loss: 0.5130 - accuracy: 0.7396\n",
      "Epoch 22/100\n",
      "18/18 [==============================] - 0s 3ms/step - loss: 0.5133 - accuracy: 0.7448\n",
      "Epoch 23/100\n",
      "18/18 [==============================] - 0s 3ms/step - loss: 0.5113 - accuracy: 0.7431\n",
      "Epoch 24/100\n",
      "18/18 [==============================] - 0s 3ms/step - loss: 0.5189 - accuracy: 0.7448\n",
      "Epoch 25/100\n",
      "18/18 [==============================] - 0s 3ms/step - loss: 0.5169 - accuracy: 0.7483\n",
      "Epoch 26/100\n",
      "18/18 [==============================] - 0s 3ms/step - loss: 0.5119 - accuracy: 0.7396\n",
      "Epoch 27/100\n",
      "18/18 [==============================] - 0s 4ms/step - loss: 0.5130 - accuracy: 0.7483\n",
      "Epoch 28/100\n",
      "18/18 [==============================] - 0s 4ms/step - loss: 0.5176 - accuracy: 0.7517\n",
      "Epoch 29/100\n",
      "18/18 [==============================] - 0s 4ms/step - loss: 0.5158 - accuracy: 0.7448\n",
      "Epoch 30/100\n",
      "18/18 [==============================] - 0s 3ms/step - loss: 0.5113 - accuracy: 0.7413\n",
      "Epoch 31/100\n",
      "18/18 [==============================] - 0s 3ms/step - loss: 0.5105 - accuracy: 0.7396\n",
      "Epoch 32/100\n",
      "18/18 [==============================] - 0s 3ms/step - loss: 0.5082 - accuracy: 0.7552\n",
      "Epoch 33/100\n",
      "18/18 [==============================] - 0s 3ms/step - loss: 0.5099 - accuracy: 0.7448\n",
      "Epoch 34/100\n",
      "18/18 [==============================] - 0s 3ms/step - loss: 0.5100 - accuracy: 0.7431\n",
      "Epoch 35/100\n",
      "18/18 [==============================] - 0s 3ms/step - loss: 0.5058 - accuracy: 0.7483\n",
      "Epoch 36/100\n",
      "18/18 [==============================] - 0s 3ms/step - loss: 0.5096 - accuracy: 0.7396\n",
      "Epoch 37/100\n",
      "18/18 [==============================] - 0s 3ms/step - loss: 0.5064 - accuracy: 0.7465\n",
      "Epoch 38/100\n",
      "18/18 [==============================] - 0s 3ms/step - loss: 0.5061 - accuracy: 0.7517\n",
      "Epoch 39/100\n",
      "18/18 [==============================] - 0s 3ms/step - loss: 0.5067 - accuracy: 0.7448\n",
      "Epoch 40/100\n",
      "18/18 [==============================] - 0s 3ms/step - loss: 0.5047 - accuracy: 0.7569\n",
      "Epoch 41/100\n",
      "18/18 [==============================] - 0s 3ms/step - loss: 0.5067 - accuracy: 0.7483\n",
      "Epoch 42/100\n",
      "18/18 [==============================] - 0s 4ms/step - loss: 0.5070 - accuracy: 0.7500\n",
      "Epoch 43/100\n",
      "18/18 [==============================] - 0s 3ms/step - loss: 0.5077 - accuracy: 0.7465\n",
      "Epoch 44/100\n",
      "18/18 [==============================] - 0s 3ms/step - loss: 0.5068 - accuracy: 0.7413\n",
      "Epoch 45/100\n",
      "18/18 [==============================] - 0s 3ms/step - loss: 0.5040 - accuracy: 0.7535\n",
      "Epoch 46/100\n",
      "18/18 [==============================] - 0s 3ms/step - loss: 0.5083 - accuracy: 0.7500\n",
      "Epoch 47/100\n",
      "18/18 [==============================] - 0s 3ms/step - loss: 0.5031 - accuracy: 0.7483\n",
      "Epoch 48/100\n",
      "18/18 [==============================] - 0s 3ms/step - loss: 0.5028 - accuracy: 0.7465\n",
      "Epoch 49/100\n",
      "18/18 [==============================] - 0s 3ms/step - loss: 0.5066 - accuracy: 0.7431\n",
      "Epoch 50/100\n",
      "18/18 [==============================] - 0s 4ms/step - loss: 0.5044 - accuracy: 0.7517\n",
      "Epoch 51/100\n",
      "18/18 [==============================] - 0s 3ms/step - loss: 0.5027 - accuracy: 0.7448\n",
      "Epoch 52/100\n",
      "18/18 [==============================] - 0s 3ms/step - loss: 0.5040 - accuracy: 0.7448\n",
      "Epoch 53/100\n",
      "18/18 [==============================] - 0s 3ms/step - loss: 0.5107 - accuracy: 0.7465\n",
      "Epoch 54/100\n",
      "18/18 [==============================] - 0s 3ms/step - loss: 0.5082 - accuracy: 0.7431\n",
      "Epoch 55/100\n",
      "18/18 [==============================] - 0s 3ms/step - loss: 0.5034 - accuracy: 0.7413\n",
      "Epoch 56/100\n",
      "18/18 [==============================] - 0s 3ms/step - loss: 0.5045 - accuracy: 0.7413\n",
      "Epoch 57/100\n",
      "18/18 [==============================] - 0s 3ms/step - loss: 0.5024 - accuracy: 0.7448\n",
      "Epoch 58/100\n",
      "18/18 [==============================] - 0s 3ms/step - loss: 0.5007 - accuracy: 0.7448\n",
      "Epoch 59/100\n",
      "18/18 [==============================] - 0s 3ms/step - loss: 0.5110 - accuracy: 0.7361\n",
      "Epoch 60/100\n",
      "18/18 [==============================] - 0s 3ms/step - loss: 0.5069 - accuracy: 0.7413\n",
      "Epoch 61/100\n",
      "18/18 [==============================] - 0s 3ms/step - loss: 0.5029 - accuracy: 0.7396\n",
      "Epoch 62/100\n",
      "18/18 [==============================] - 0s 3ms/step - loss: 0.5053 - accuracy: 0.7378\n",
      "Epoch 63/100\n",
      "18/18 [==============================] - 0s 3ms/step - loss: 0.5048 - accuracy: 0.7431\n",
      "Epoch 64/100\n",
      "18/18 [==============================] - 0s 3ms/step - loss: 0.5017 - accuracy: 0.7396\n",
      "Epoch 65/100\n",
      "18/18 [==============================] - 0s 3ms/step - loss: 0.5024 - accuracy: 0.7431\n",
      "Epoch 66/100\n",
      "18/18 [==============================] - 0s 3ms/step - loss: 0.4993 - accuracy: 0.7413\n",
      "Epoch 67/100\n",
      "18/18 [==============================] - 0s 3ms/step - loss: 0.5029 - accuracy: 0.7465\n",
      "Epoch 68/100\n",
      "18/18 [==============================] - 0s 3ms/step - loss: 0.5021 - accuracy: 0.7465\n",
      "Epoch 69/100\n",
      "18/18 [==============================] - 0s 3ms/step - loss: 0.4995 - accuracy: 0.7483\n",
      "Epoch 70/100\n",
      "18/18 [==============================] - 0s 3ms/step - loss: 0.5010 - accuracy: 0.7378\n",
      "Epoch 71/100\n",
      "18/18 [==============================] - 0s 3ms/step - loss: 0.5022 - accuracy: 0.7483\n",
      "Epoch 72/100\n",
      "18/18 [==============================] - 0s 3ms/step - loss: 0.4990 - accuracy: 0.7483\n",
      "Epoch 73/100\n",
      "18/18 [==============================] - 0s 3ms/step - loss: 0.5067 - accuracy: 0.7378\n",
      "Epoch 74/100\n",
      "18/18 [==============================] - 0s 3ms/step - loss: 0.5018 - accuracy: 0.7396\n",
      "Epoch 75/100\n",
      "18/18 [==============================] - 0s 3ms/step - loss: 0.5005 - accuracy: 0.7431\n",
      "Epoch 76/100\n",
      "18/18 [==============================] - 0s 3ms/step - loss: 0.5000 - accuracy: 0.7465\n",
      "Epoch 77/100\n",
      "18/18 [==============================] - 0s 3ms/step - loss: 0.5000 - accuracy: 0.7396\n",
      "Epoch 78/100\n",
      "18/18 [==============================] - 0s 3ms/step - loss: 0.5059 - accuracy: 0.7396\n",
      "Epoch 79/100\n",
      "18/18 [==============================] - 0s 3ms/step - loss: 0.4973 - accuracy: 0.7413\n",
      "Epoch 80/100\n",
      "18/18 [==============================] - 0s 3ms/step - loss: 0.5016 - accuracy: 0.7378\n",
      "Epoch 81/100\n",
      "18/18 [==============================] - 0s 3ms/step - loss: 0.5015 - accuracy: 0.7344\n",
      "Epoch 82/100\n",
      "18/18 [==============================] - 0s 3ms/step - loss: 0.4965 - accuracy: 0.7448\n",
      "Epoch 83/100\n"
     ]
    },
    {
     "name": "stdout",
     "output_type": "stream",
     "text": [
      "18/18 [==============================] - 0s 3ms/step - loss: 0.4995 - accuracy: 0.7448\n",
      "Epoch 84/100\n",
      "18/18 [==============================] - 0s 3ms/step - loss: 0.4986 - accuracy: 0.7465\n",
      "Epoch 85/100\n",
      "18/18 [==============================] - 0s 3ms/step - loss: 0.4987 - accuracy: 0.7465\n",
      "Epoch 86/100\n",
      "18/18 [==============================] - 0s 3ms/step - loss: 0.4973 - accuracy: 0.7483\n",
      "Epoch 87/100\n",
      "18/18 [==============================] - 0s 3ms/step - loss: 0.5007 - accuracy: 0.7413\n",
      "Epoch 88/100\n",
      "18/18 [==============================] - 0s 2ms/step - loss: 0.4994 - accuracy: 0.7378\n",
      "Epoch 89/100\n",
      "18/18 [==============================] - 0s 3ms/step - loss: 0.5016 - accuracy: 0.7500\n",
      "Epoch 90/100\n",
      "18/18 [==============================] - 0s 3ms/step - loss: 0.4998 - accuracy: 0.7448\n",
      "Epoch 91/100\n",
      "18/18 [==============================] - 0s 3ms/step - loss: 0.4991 - accuracy: 0.7431\n",
      "Epoch 92/100\n",
      "18/18 [==============================] - 0s 3ms/step - loss: 0.5029 - accuracy: 0.7361\n",
      "Epoch 93/100\n",
      "18/18 [==============================] - 0s 4ms/step - loss: 0.5002 - accuracy: 0.7448\n",
      "Epoch 94/100\n",
      "18/18 [==============================] - 0s 3ms/step - loss: 0.4974 - accuracy: 0.7413\n",
      "Epoch 95/100\n",
      "18/18 [==============================] - 0s 4ms/step - loss: 0.4951 - accuracy: 0.7413\n",
      "Epoch 96/100\n",
      "18/18 [==============================] - 0s 3ms/step - loss: 0.4987 - accuracy: 0.7483\n",
      "Epoch 97/100\n",
      "18/18 [==============================] - 0s 3ms/step - loss: 0.4957 - accuracy: 0.7500\n",
      "Epoch 98/100\n",
      "18/18 [==============================] - 0s 3ms/step - loss: 0.4977 - accuracy: 0.7431\n",
      "Epoch 99/100\n",
      "18/18 [==============================] - 0s 3ms/step - loss: 0.4956 - accuracy: 0.7587\n",
      "Epoch 100/100\n",
      "18/18 [==============================] - 0s 3ms/step - loss: 0.4989 - accuracy: 0.7448\n"
     ]
    },
    {
     "data": {
      "text/plain": [
       "<keras.callbacks.History at 0x1a9f4e086d0>"
      ]
     },
     "execution_count": 103,
     "metadata": {},
     "output_type": "execute_result"
    }
   ],
   "source": [
    "#training ANN on glucose and insulin features\n",
    "Kmodel.fit(X_train1,y_train1,batch_size=32,epochs=100)\n"
   ]
  },
  {
   "cell_type": "code",
   "execution_count": 104,
   "id": "0176e519",
   "metadata": {},
   "outputs": [
    {
     "name": "stdout",
     "output_type": "stream",
     "text": [
      "[[1 1]\n",
      " [0 1]\n",
      " [0 0]\n",
      " [0 0]\n",
      " [0 0]\n",
      " [0 1]\n",
      " [1 0]\n",
      " [0 0]\n",
      " [0 0]\n",
      " [0 0]\n",
      " [1 0]\n",
      " [0 0]\n",
      " [1 1]\n",
      " [0 0]\n",
      " [0 1]\n",
      " [0 0]\n",
      " [0 0]\n",
      " [1 1]\n",
      " [0 1]\n",
      " [1 1]\n",
      " [0 0]\n",
      " [0 0]\n",
      " [0 0]\n",
      " [0 1]\n",
      " [0 0]\n",
      " [0 0]\n",
      " [0 0]\n",
      " [0 0]\n",
      " [0 0]\n",
      " [0 0]\n",
      " [0 0]\n",
      " [0 0]\n",
      " [0 1]\n",
      " [0 0]\n",
      " [0 1]\n",
      " [0 0]\n",
      " [1 0]\n",
      " [0 0]\n",
      " [1 1]\n",
      " [0 0]\n",
      " [1 1]\n",
      " [0 0]\n",
      " [0 0]\n",
      " [0 0]\n",
      " [1 1]\n",
      " [0 0]\n",
      " [0 0]\n",
      " [1 1]\n",
      " [0 0]\n",
      " [1 1]\n",
      " [0 1]\n",
      " [1 0]\n",
      " [0 1]\n",
      " [0 0]\n",
      " [1 1]\n",
      " [0 0]\n",
      " [1 1]\n",
      " [0 0]\n",
      " [0 0]\n",
      " [0 1]\n",
      " [0 1]\n",
      " [0 0]\n",
      " [0 0]\n",
      " [0 0]\n",
      " [1 1]\n",
      " [0 0]\n",
      " [0 0]\n",
      " [0 0]\n",
      " [0 1]\n",
      " [0 0]\n",
      " [0 0]\n",
      " [0 0]\n",
      " [0 0]\n",
      " [0 0]\n",
      " [0 0]\n",
      " [0 0]\n",
      " [0 0]\n",
      " [0 0]\n",
      " [0 0]\n",
      " [0 0]\n",
      " [0 0]\n",
      " [0 0]\n",
      " [0 0]\n",
      " [0 0]\n",
      " [0 0]\n",
      " [0 0]\n",
      " [1 1]\n",
      " [0 0]\n",
      " [0 0]\n",
      " [0 0]\n",
      " [1 0]\n",
      " [1 1]\n",
      " [1 1]\n",
      " [0 0]\n",
      " [1 1]\n",
      " [0 0]\n",
      " [0 0]\n",
      " [0 0]\n",
      " [0 0]\n",
      " [0 0]\n",
      " [1 1]\n",
      " [0 0]\n",
      " [0 0]\n",
      " [0 0]\n",
      " [0 0]\n",
      " [1 0]\n",
      " [0 0]\n",
      " [1 0]\n",
      " [0 0]\n",
      " [0 1]\n",
      " [1 1]\n",
      " [0 1]\n",
      " [1 1]\n",
      " [0 0]\n",
      " [0 0]\n",
      " [0 1]\n",
      " [0 0]\n",
      " [1 1]\n",
      " [0 0]\n",
      " [0 1]\n",
      " [0 1]\n",
      " [0 1]\n",
      " [0 0]\n",
      " [1 0]\n",
      " [1 0]\n",
      " [1 1]\n",
      " [1 1]\n",
      " [0 0]\n",
      " [1 0]\n",
      " [0 0]\n",
      " [0 1]\n",
      " [1 0]\n",
      " [0 0]\n",
      " [0 0]\n",
      " [0 0]\n",
      " [0 0]\n",
      " [1 0]\n",
      " [0 1]\n",
      " [1 0]\n",
      " [1 0]\n",
      " [1 0]\n",
      " [1 1]\n",
      " [0 1]\n",
      " [0 0]\n",
      " [1 0]\n",
      " [0 0]\n",
      " [0 0]\n",
      " [0 1]\n",
      " [0 1]\n",
      " [0 1]\n",
      " [0 0]\n",
      " [0 0]\n",
      " [1 1]\n",
      " [0 0]\n",
      " [0 0]\n",
      " [1 1]\n",
      " [0 1]\n",
      " [0 1]\n",
      " [0 0]\n",
      " [1 1]\n",
      " [1 1]\n",
      " [0 1]\n",
      " [0 1]\n",
      " [0 1]\n",
      " [0 0]\n",
      " [0 0]\n",
      " [0 0]\n",
      " [1 1]\n",
      " [0 0]\n",
      " [0 1]\n",
      " [0 0]\n",
      " [0 1]\n",
      " [0 0]\n",
      " [0 1]\n",
      " [0 1]\n",
      " [0 0]\n",
      " [0 0]\n",
      " [0 0]\n",
      " [1 1]\n",
      " [1 1]\n",
      " [0 0]\n",
      " [0 0]\n",
      " [1 1]\n",
      " [0 0]\n",
      " [1 0]\n",
      " [0 0]\n",
      " [1 0]\n",
      " [0 1]\n",
      " [0 0]\n",
      " [1 1]\n",
      " [0 1]\n",
      " [0 0]]\n"
     ]
    }
   ],
   "source": [
    "y_pred=Kmodel.predict(X_test1)\n",
    "y_pred=y_pred>0.5\n",
    "\n",
    "print(np.concatenate((y_pred.reshape(len(y_pred),1),y_test1.to_numpy().reshape(len(y_test1),1)),axis=1))"
   ]
  },
  {
   "cell_type": "code",
   "execution_count": 105,
   "id": "66ffc953",
   "metadata": {},
   "outputs": [
    {
     "name": "stdout",
     "output_type": "stream",
     "text": [
      "[[107  18]\n",
      " [ 35  32]]\n",
      "0.7239583333333334\n",
      "OUTCOME DIABETIC\n",
      "\n",
      "Mis-classification(1-accuracy) 0.2760416666666667\n",
      "sensitivity 0.47761194029850745\n",
      "Specificity(TNR): 0.856\n",
      "precision 0.64\n",
      "f1 score 0.5470085470085471\n",
      "OUTCOME NON DIABETIC\n",
      "Mis-classification(1-accuracy) 0.2760416666666667\n",
      "sensitivity 0.856\n",
      "Specificity(TNR): 0.47761194029850745\n",
      "precision 0.7535211267605634\n",
      "f1 score 0.8014981273408239\n"
     ]
    }
   ],
   "source": [
    "cm = confusion_matrix(y_test1,y_pred)\n",
    "print(cm)\n",
    "print(accuracy_score(y_test1,y_pred))\n",
    "print(\"OUTCOME DIABETIC\\n\")\n",
    "print(\"Mis-classification(1-accuracy)\",(cm[0][1]+cm[1][0])/(cm[0][0]+cm[0][1]+cm[1][0]+cm[1][1]))\n",
    "Sensitivity=cm[1][1]/(cm[1][1]+cm[1][0])\n",
    "print(\"sensitivity\",Sensitivity)\n",
    "print(\"Specificity(TNR):\",cm[0][0]/(cm[0][0]+cm[0][1]))\n",
    "Precision=cm[1][1]/(cm[1][1]+cm[0][1])\n",
    "print(\"precision\",Precision)\n",
    "print(\"f1 score\",2*Precision*Sensitivity/(Precision+Sensitivity))\n",
    "\n",
    "print(\"OUTCOME NON DIABETIC\")\n",
    "print(\"Mis-classification(1-accuracy)\",(cm[0][1]+cm[1][0])/(cm[0][0]+cm[0][1]+cm[1][0]+cm[1][1]))\n",
    "Sensitivity=cm[0][0]/(cm[0][0]+cm[0][1])\n",
    "print(\"sensitivity\",Sensitivity)\n",
    "print(\"Specificity(TNR):\",cm[1][1]/(cm[1][1]+cm[1][0]))\n",
    "Precision=cm[0][0]/(cm[0][0]+cm[1][0])\n",
    "print(\"precision\",Precision)\n",
    "print(\"f1 score\",2*Precision*Sensitivity/(Precision+Sensitivity))\n"
   ]
  },
  {
   "cell_type": "code",
   "execution_count": 106,
   "id": "778ca865",
   "metadata": {},
   "outputs": [
    {
     "name": "stdout",
     "output_type": "stream",
     "text": [
      "6.05388091473235 48.238905266930416\n"
     ]
    },
    {
     "name": "stderr",
     "output_type": "stream",
     "text": [
      "*c* argument looks like a single numeric RGB or RGBA sequence, which should be avoided as value-mapping will have precedence in case its length matches with *x* & *y*.  Please use the *color* keyword-argument or provide a 2D array with a single row if you intend to specify the same RGB or RGBA value for all points.\n",
      "*c* argument looks like a single numeric RGB or RGBA sequence, which should be avoided as value-mapping will have precedence in case its length matches with *x* & *y*.  Please use the *color* keyword-argument or provide a 2D array with a single row if you intend to specify the same RGB or RGBA value for all points.\n"
     ]
    },
    {
     "data": {
      "image/png": "[encoded data removed]",
      "text/plain": [
       "<Figure size 432x288 with 1 Axes>"
      ]
     },
     "metadata": {
      "needs_background": "light"
     },
     "output_type": "display_data"
    }
   ],
   "source": [
    "from matplotlib.colors import ListedColormap\n",
    "X_set, y_set = sc1.inverse_transform(X_test1), y_test1\n",
    "print(X_set[:,0].min(),X_set[:,0].max())\n",
    "X1, X2 = np.meshgrid(np.arange(start = X_set[:, 0].min(), stop = X_set[:, 0].max(), step = 0.25),\n",
    "                     np.arange(start = X_set[:, 1].min(), stop = X_set[:, 1].max(), step = 0.25))\n",
    "plt.contourf(X1, X2, Kmodel.predict(sc1.transform(np.array([X1.ravel(), X2.ravel()]).T)).reshape(X1.shape),\n",
    "             alpha = 0.75, cmap = ListedColormap(('red', 'green')))\n",
    "plt.xlim(X1.min(), X1.max())\n",
    "plt.ylim(X2.min(), X2.max())\n",
    "for i, j in enumerate(np.unique(y_set)):\n",
    "    plt.scatter(X_set[y_set == j, 0], X_set[y_set == j, 1], c = ListedColormap(('red', 'green'))(i), label = j)\n",
    "plt.title('ANN (Test set)')\n",
    "plt.xlabel('Glucose')\n",
    "plt.ylabel('Insulin')\n",
    "plt.legend()\n",
    "plt.show()"
   ]
  },
  {
   "cell_type": "code",
   "execution_count": 107,
   "id": "9a29f41f",
   "metadata": {},
   "outputs": [
    {
     "name": "stdout",
     "output_type": "stream",
     "text": [
      "Epoch 1/100\n",
      "18/18 [==============================] - 2s 3ms/step - loss: 0.6924 - accuracy: 0.5903\n",
      "Epoch 2/100\n",
      "18/18 [==============================] - 0s 3ms/step - loss: 0.6879 - accuracy: 0.6510\n",
      "Epoch 3/100\n",
      "18/18 [==============================] - 0s 3ms/step - loss: 0.6826 - accuracy: 0.6771\n",
      "Epoch 4/100\n",
      "18/18 [==============================] - 0s 3ms/step - loss: 0.6752 - accuracy: 0.7170\n",
      "Epoch 5/100\n",
      "18/18 [==============================] - 0s 3ms/step - loss: 0.6627 - accuracy: 0.7500\n",
      "Epoch 6/100\n",
      "18/18 [==============================] - 0s 3ms/step - loss: 0.6455 - accuracy: 0.7622\n",
      "Epoch 7/100\n",
      "18/18 [==============================] - 0s 3ms/step - loss: 0.6224 - accuracy: 0.7674\n",
      "Epoch 8/100\n",
      "18/18 [==============================] - 0s 3ms/step - loss: 0.5997 - accuracy: 0.7812\n",
      "Epoch 9/100\n",
      "18/18 [==============================] - 0s 3ms/step - loss: 0.5757 - accuracy: 0.7865\n",
      "Epoch 10/100\n",
      "18/18 [==============================] - 0s 3ms/step - loss: 0.5553 - accuracy: 0.7830\n",
      "Epoch 11/100\n",
      "18/18 [==============================] - 0s 3ms/step - loss: 0.5374 - accuracy: 0.7917\n",
      "Epoch 12/100\n",
      "18/18 [==============================] - 0s 3ms/step - loss: 0.5175 - accuracy: 0.7899\n",
      "Epoch 13/100\n",
      "18/18 [==============================] - 0s 3ms/step - loss: 0.5048 - accuracy: 0.7882\n",
      "Epoch 14/100\n",
      "18/18 [==============================] - 0s 3ms/step - loss: 0.4932 - accuracy: 0.7969\n",
      "Epoch 15/100\n",
      "18/18 [==============================] - 0s 3ms/step - loss: 0.4889 - accuracy: 0.8003\n",
      "Epoch 16/100\n",
      "18/18 [==============================] - 0s 3ms/step - loss: 0.4815 - accuracy: 0.7934\n",
      "Epoch 17/100\n",
      "18/18 [==============================] - 0s 3ms/step - loss: 0.4768 - accuracy: 0.7986\n",
      "Epoch 18/100\n",
      "18/18 [==============================] - 0s 3ms/step - loss: 0.4771 - accuracy: 0.7969\n",
      "Epoch 19/100\n",
      "18/18 [==============================] - 0s 3ms/step - loss: 0.4687 - accuracy: 0.8056\n",
      "Epoch 20/100\n",
      "18/18 [==============================] - 0s 3ms/step - loss: 0.4667 - accuracy: 0.8038\n",
      "Epoch 21/100\n",
      "18/18 [==============================] - 0s 3ms/step - loss: 0.4648 - accuracy: 0.8038\n",
      "Epoch 22/100\n",
      "18/18 [==============================] - 0s 3ms/step - loss: 0.4617 - accuracy: 0.8056\n",
      "Epoch 23/100\n",
      "18/18 [==============================] - 0s 4ms/step - loss: 0.4587 - accuracy: 0.8090\n",
      "Epoch 24/100\n",
      "18/18 [==============================] - 0s 3ms/step - loss: 0.4586 - accuracy: 0.8038\n",
      "Epoch 25/100\n",
      "18/18 [==============================] - 0s 3ms/step - loss: 0.4557 - accuracy: 0.8177\n",
      "Epoch 26/100\n",
      "18/18 [==============================] - 0s 3ms/step - loss: 0.4552 - accuracy: 0.8038\n",
      "Epoch 27/100\n",
      "18/18 [==============================] - 0s 3ms/step - loss: 0.4529 - accuracy: 0.8090\n",
      "Epoch 28/100\n",
      "18/18 [==============================] - 0s 3ms/step - loss: 0.4488 - accuracy: 0.8073\n",
      "Epoch 29/100\n",
      "18/18 [==============================] - 0s 3ms/step - loss: 0.4484 - accuracy: 0.8142\n",
      "Epoch 30/100\n",
      "18/18 [==============================] - 0s 3ms/step - loss: 0.4466 - accuracy: 0.8160\n",
      "Epoch 31/100\n",
      "18/18 [==============================] - 0s 3ms/step - loss: 0.4450 - accuracy: 0.8125\n",
      "Epoch 32/100\n",
      "18/18 [==============================] - 0s 3ms/step - loss: 0.4447 - accuracy: 0.8125\n",
      "Epoch 33/100\n",
      "18/18 [==============================] - 0s 3ms/step - loss: 0.4462 - accuracy: 0.8108\n",
      "Epoch 34/100\n",
      "18/18 [==============================] - 0s 3ms/step - loss: 0.4450 - accuracy: 0.8090\n",
      "Epoch 35/100\n",
      "18/18 [==============================] - 0s 3ms/step - loss: 0.4405 - accuracy: 0.8160\n",
      "Epoch 36/100\n",
      "18/18 [==============================] - 0s 3ms/step - loss: 0.4391 - accuracy: 0.8177\n",
      "Epoch 37/100\n",
      "18/18 [==============================] - 0s 3ms/step - loss: 0.4362 - accuracy: 0.8212\n",
      "Epoch 38/100\n",
      "18/18 [==============================] - 0s 3ms/step - loss: 0.4362 - accuracy: 0.8194\n",
      "Epoch 39/100\n",
      "18/18 [==============================] - 0s 3ms/step - loss: 0.4342 - accuracy: 0.8247\n",
      "Epoch 40/100\n",
      "18/18 [==============================] - 0s 3ms/step - loss: 0.4308 - accuracy: 0.8229\n",
      "Epoch 41/100\n",
      "18/18 [==============================] - 0s 3ms/step - loss: 0.4296 - accuracy: 0.8212\n",
      "Epoch 42/100\n",
      "18/18 [==============================] - 0s 3ms/step - loss: 0.4274 - accuracy: 0.8247\n",
      "Epoch 43/100\n",
      "18/18 [==============================] - 0s 3ms/step - loss: 0.4267 - accuracy: 0.8160\n",
      "Epoch 44/100\n",
      "18/18 [==============================] - 0s 3ms/step - loss: 0.4286 - accuracy: 0.8142\n",
      "Epoch 45/100\n",
      "18/18 [==============================] - 0s 3ms/step - loss: 0.4222 - accuracy: 0.8229\n",
      "Epoch 46/100\n",
      "18/18 [==============================] - 0s 3ms/step - loss: 0.4218 - accuracy: 0.8212\n",
      "Epoch 47/100\n",
      "18/18 [==============================] - 0s 3ms/step - loss: 0.4238 - accuracy: 0.8142\n",
      "Epoch 48/100\n",
      "18/18 [==============================] - 0s 3ms/step - loss: 0.4259 - accuracy: 0.8073\n",
      "Epoch 49/100\n",
      "18/18 [==============================] - 0s 3ms/step - loss: 0.4235 - accuracy: 0.8160\n",
      "Epoch 50/100\n",
      "18/18 [==============================] - 0s 3ms/step - loss: 0.4189 - accuracy: 0.8281\n",
      "Epoch 51/100\n",
      "18/18 [==============================] - 0s 3ms/step - loss: 0.4196 - accuracy: 0.8177\n",
      "Epoch 52/100\n",
      "18/18 [==============================] - 0s 3ms/step - loss: 0.4165 - accuracy: 0.8212\n",
      "Epoch 53/100\n",
      "18/18 [==============================] - 0s 3ms/step - loss: 0.4091 - accuracy: 0.8264\n",
      "Epoch 54/100\n",
      "18/18 [==============================] - 0s 3ms/step - loss: 0.4146 - accuracy: 0.8177\n",
      "Epoch 55/100\n",
      "18/18 [==============================] - 0s 3ms/step - loss: 0.4107 - accuracy: 0.8194\n",
      "Epoch 56/100\n",
      "18/18 [==============================] - 0s 3ms/step - loss: 0.4049 - accuracy: 0.8281\n",
      "Epoch 57/100\n",
      "18/18 [==============================] - 0s 3ms/step - loss: 0.4079 - accuracy: 0.8229\n",
      "Epoch 58/100\n",
      "18/18 [==============================] - 0s 3ms/step - loss: 0.4015 - accuracy: 0.8281\n",
      "Epoch 59/100\n",
      "18/18 [==============================] - 0s 3ms/step - loss: 0.3997 - accuracy: 0.8229\n",
      "Epoch 60/100\n",
      "18/18 [==============================] - 0s 3ms/step - loss: 0.4051 - accuracy: 0.8142\n",
      "Epoch 61/100\n",
      "18/18 [==============================] - 0s 3ms/step - loss: 0.3968 - accuracy: 0.8264\n",
      "Epoch 62/100\n",
      "18/18 [==============================] - 0s 3ms/step - loss: 0.3976 - accuracy: 0.8299\n",
      "Epoch 63/100\n",
      "18/18 [==============================] - 0s 3ms/step - loss: 0.3934 - accuracy: 0.8351\n",
      "Epoch 64/100\n",
      "18/18 [==============================] - 0s 3ms/step - loss: 0.3884 - accuracy: 0.8333\n",
      "Epoch 65/100\n",
      "18/18 [==============================] - 0s 3ms/step - loss: 0.3864 - accuracy: 0.8316\n",
      "Epoch 66/100\n",
      "18/18 [==============================] - 0s 3ms/step - loss: 0.3874 - accuracy: 0.8264\n",
      "Epoch 67/100\n",
      "18/18 [==============================] - 0s 3ms/step - loss: 0.3849 - accuracy: 0.8316\n",
      "Epoch 68/100\n",
      "18/18 [==============================] - 0s 3ms/step - loss: 0.3801 - accuracy: 0.8316\n",
      "Epoch 69/100\n",
      "18/18 [==============================] - 0s 3ms/step - loss: 0.3795 - accuracy: 0.8299\n",
      "Epoch 70/100\n",
      "18/18 [==============================] - 0s 3ms/step - loss: 0.3836 - accuracy: 0.8212\n",
      "Epoch 71/100\n",
      "18/18 [==============================] - 0s 3ms/step - loss: 0.3829 - accuracy: 0.8281\n",
      "Epoch 72/100\n",
      "18/18 [==============================] - 0s 3ms/step - loss: 0.3750 - accuracy: 0.8316\n",
      "Epoch 73/100\n",
      "18/18 [==============================] - 0s 3ms/step - loss: 0.3789 - accuracy: 0.8264\n",
      "Epoch 74/100\n",
      "18/18 [==============================] - 0s 3ms/step - loss: 0.3745 - accuracy: 0.8299\n",
      "Epoch 75/100\n",
      "18/18 [==============================] - 0s 3ms/step - loss: 0.3701 - accuracy: 0.8333\n",
      "Epoch 76/100\n",
      "18/18 [==============================] - 0s 3ms/step - loss: 0.3685 - accuracy: 0.8351\n",
      "Epoch 77/100\n",
      "18/18 [==============================] - 0s 3ms/step - loss: 0.3658 - accuracy: 0.8438\n",
      "Epoch 78/100\n",
      "18/18 [==============================] - 0s 3ms/step - loss: 0.3665 - accuracy: 0.8368\n",
      "Epoch 79/100\n",
      "18/18 [==============================] - 0s 3ms/step - loss: 0.3652 - accuracy: 0.8385\n",
      "Epoch 80/100\n",
      "18/18 [==============================] - 0s 3ms/step - loss: 0.3569 - accuracy: 0.8455\n",
      "Epoch 81/100\n",
      "18/18 [==============================] - 0s 3ms/step - loss: 0.3568 - accuracy: 0.8438\n",
      "Epoch 82/100\n",
      "18/18 [==============================] - 0s 3ms/step - loss: 0.3654 - accuracy: 0.8281\n",
      "Epoch 83/100\n"
     ]
    },
    {
     "name": "stdout",
     "output_type": "stream",
     "text": [
      "18/18 [==============================] - 0s 3ms/step - loss: 0.3633 - accuracy: 0.8403\n",
      "Epoch 84/100\n",
      "18/18 [==============================] - 0s 3ms/step - loss: 0.3540 - accuracy: 0.8472\n",
      "Epoch 85/100\n",
      "18/18 [==============================] - 0s 3ms/step - loss: 0.3561 - accuracy: 0.8299\n",
      "Epoch 86/100\n",
      "18/18 [==============================] - 0s 3ms/step - loss: 0.3550 - accuracy: 0.8490\n",
      "Epoch 87/100\n",
      "18/18 [==============================] - 0s 3ms/step - loss: 0.3469 - accuracy: 0.8490\n",
      "Epoch 88/100\n",
      "18/18 [==============================] - 0s 3ms/step - loss: 0.3491 - accuracy: 0.8403\n",
      "Epoch 89/100\n",
      "18/18 [==============================] - 0s 3ms/step - loss: 0.3558 - accuracy: 0.8333\n",
      "Epoch 90/100\n",
      "18/18 [==============================] - 0s 3ms/step - loss: 0.3431 - accuracy: 0.8403\n",
      "Epoch 91/100\n",
      "18/18 [==============================] - 0s 3ms/step - loss: 0.3486 - accuracy: 0.8403\n",
      "Epoch 92/100\n",
      "18/18 [==============================] - 0s 3ms/step - loss: 0.3466 - accuracy: 0.8455\n",
      "Epoch 93/100\n",
      "18/18 [==============================] - 0s 3ms/step - loss: 0.3458 - accuracy: 0.8472\n",
      "Epoch 94/100\n",
      "18/18 [==============================] - 0s 3ms/step - loss: 0.3426 - accuracy: 0.8438\n",
      "Epoch 95/100\n",
      "18/18 [==============================] - 0s 3ms/step - loss: 0.3334 - accuracy: 0.8490\n",
      "Epoch 96/100\n",
      "18/18 [==============================] - 0s 3ms/step - loss: 0.3396 - accuracy: 0.8490\n",
      "Epoch 97/100\n",
      "18/18 [==============================] - 0s 3ms/step - loss: 0.3428 - accuracy: 0.8316\n",
      "Epoch 98/100\n",
      "18/18 [==============================] - 0s 3ms/step - loss: 0.3446 - accuracy: 0.8420\n",
      "Epoch 99/100\n",
      "18/18 [==============================] - 0s 3ms/step - loss: 0.3323 - accuracy: 0.8524\n",
      "Epoch 100/100\n",
      "18/18 [==============================] - 0s 3ms/step - loss: 0.3262 - accuracy: 0.8438\n"
     ]
    },
    {
     "data": {
      "text/plain": [
       "<keras.callbacks.History at 0x1a9f2c6e580>"
      ]
     },
     "execution_count": 107,
     "metadata": {},
     "output_type": "execute_result"
    }
   ],
   "source": [
    "#training ANN on all features\n",
    "Kmodel.fit(X_train,y_train,batch_size=32,epochs=100)"
   ]
  },
  {
   "cell_type": "raw",
   "id": "72b0fffd",
   "metadata": {},
   "source": [
    "y_pred=Kmodel.predict(X_test)\n",
    "y_pred=y_pred>0.5\n",
    "\n",
    "print(np.concatenate((y_pred.reshape(len(y_pred),1),y_test.to_numpy().reshape(len(y_test),1)),axis=1))"
   ]
  },
  {
   "cell_type": "code",
   "execution_count": 113,
   "id": "35d4424c",
   "metadata": {},
   "outputs": [
    {
     "name": "stdout",
     "output_type": "stream",
     "text": [
      "[[109  16]\n",
      " [ 32  35]]\n",
      "0.75\n",
      "OUTCOME DIABETIC\n",
      "\n",
      "Mis-classification(1-accuracy) 0.25\n",
      "sensitivity 0.5223880597014925\n",
      "Specificity(TNR): 0.872\n",
      "precision 0.6862745098039216\n",
      "f1 score 0.5932203389830508\n",
      "OUTCOME NON DIABETIC\n",
      "Mis-classification(1-accuracy) 0.25\n",
      "sensitivity 0.872\n",
      "Specificity(TNR): 0.5223880597014925\n",
      "precision 0.7730496453900709\n",
      "f1 score 0.8195488721804511\n"
     ]
    }
   ],
   "source": [
    "cm = confusion_matrix(y_test,y_pred)\n",
    "print(cm)\n",
    "print(accuracy_score(y_test,y_pred))\n",
    "print(\"OUTCOME DIABETIC\\n\")\n",
    "print(\"Mis-classification(1-accuracy)\",(cm[0][1]+cm[1][0])/(cm[0][0]+cm[0][1]+cm[1][0]+cm[1][1]))\n",
    "Sensitivity=cm[1][1]/(cm[1][1]+cm[1][0])\n",
    "print(\"sensitivity\",Sensitivity)\n",
    "print(\"Specificity(TNR):\",cm[0][0]/(cm[0][0]+cm[0][1]))\n",
    "Precision=cm[1][1]/(cm[1][1]+cm[0][1])\n",
    "print(\"precision\",Precision)\n",
    "print(\"f1 score\",2*Precision*Sensitivity/(Precision+Sensitivity))\n",
    "\n",
    "print(\"OUTCOME NON DIABETIC\")\n",
    "print(\"Mis-classification(1-accuracy)\",(cm[0][1]+cm[1][0])/(cm[0][0]+cm[0][1]+cm[1][0]+cm[1][1]))\n",
    "Sensitivity=cm[0][0]/(cm[0][0]+cm[0][1])\n",
    "print(\"sensitivity\",Sensitivity)\n",
    "print(\"Specificity(TNR):\",cm[1][1]/(cm[1][1]+cm[1][0]))\n",
    "Precision=cm[0][0]/(cm[0][0]+cm[1][0])\n",
    "print(\"precision\",Precision)\n",
    "print(\"f1 score\",2*Precision*Sensitivity/(Precision+Sensitivity))\n"
   ]
  },
  {
   "cell_type": "code",
   "execution_count": 109,
   "id": "cfe3f97d",
   "metadata": {},
   "outputs": [
    {
     "name": "stdout",
     "output_type": "stream",
     "text": [
      "17/17 [==============================] - 2s 3ms/step - loss: 0.6921 - accuracy: 0.6274\n",
      "17/17 [==============================] - 2s 3ms/step - loss: 0.6923 - accuracy: 0.5907\n",
      "17/17 [==============================] - 2s 3ms/step - loss: 0.6917 - accuracy: 0.5618\n",
      "17/17 [==============================] - 2s 3ms/step - loss: 0.6838 - accuracy: 0.6506\n",
      "17/17 [==============================] - 2s 3ms/step - loss: 0.6908 - accuracy: 0.6293\n",
      "17/17 [==============================] - 2s 3ms/step - loss: 0.6922 - accuracy: 0.5598\n",
      "17/17 [==============================] - 2s 3ms/step - loss: 0.6882 - accuracy: 0.6493\n",
      "17/17 [==============================] - 2s 3ms/step - loss: 0.6920 - accuracy: 0.6339\n",
      "17/17 [==============================] - 2s 3ms/step - loss: 0.6902 - accuracy: 0.5954\n",
      "17/17 [==============================] - 2s 3ms/step - loss: 0.6903 - accuracy: 0.6146\n",
      "Accuracy of ANN  in K fold cross validation: 64.76 % standard deviation :3.03%\n"
     ]
    }
   ],
   "source": [
    "accuracies = cross_val_score(estimator=Kmodel, X=X_train,y=y_train, scoring='accuracy',cv=10)\n",
    "print(\"Accuracy of ANN  in K fold cross validation: {:.2f} %\".format(accuracies.mean()*100),\n",
    "                         \"standard deviation :{:.2f}%\".format(accuracies.std()*100))"
   ]
  },
  {
   "cell_type": "code",
   "execution_count": 111,
   "id": "6ed24021",
   "metadata": {},
   "outputs": [
    {
     "name": "stdout",
     "output_type": "stream",
     "text": [
      "[[109  16]\n",
      " [ 32  35]]\n",
      "0.75\n",
      "MLP Classifier Mis-classification(1-accuracy) 0.25\n",
      "MLP Classifier sensitivity 0.6862745098039216\n",
      "MLP Classifier Specificity(TNR): 0.872\n",
      "MLP Classifier precision 0.6862745098039216\n",
      "MLP Classifier f1 score 0.6862745098039216\n"
     ]
    }
   ],
   "source": [
    "#training MLP on glucose and insulin features\n",
    "from sklearn.neural_network import MLPClassifier\n",
    "mlp=MLPClassifier(max_iter=1000,alpha=1)\n",
    "mlp.fit(X_train1,y_train1)\n",
    "y_pred=mlp.predict(X_test1)\n",
    "cm=confusion_matrix(y_test1,y_pred)\n",
    "print(cm)\n",
    "acc=accuracy_score(y_test1,y_pred)\n",
    "print(acc)\n",
    "print(\"MLP Classifier Mis-classification(1-accuracy)\",(cm[0][1]+cm[1][0])/(cm[0][0]+cm[0][1]+cm[1][0]+cm[1][1]))\n",
    "Sensitivity=cm[1][1]/(cm[1][1]+cm[0][1])\n",
    "print(\"MLP Classifier sensitivity\",Sensitivity)\n",
    "print(\"MLP Classifier Specificity(TNR):\",cm[0][0]/(cm[0][0]+cm[0][1]))\n",
    "Precision=cm[1][1]/(cm[1][1]+cm[0][1])\n",
    "print(\"MLP Classifier precision\",Precision)\n",
    "print(\"MLP Classifier f1 score\",2*Precision*Sensitivity/(Precision+Sensitivity))\n"
   ]
  },
  {
   "cell_type": "code",
   "execution_count": 112,
   "id": "d8069e70",
   "metadata": {},
   "outputs": [
    {
     "name": "stderr",
     "output_type": "stream",
     "text": [
      "*c* argument looks like a single numeric RGB or RGBA sequence, which should be avoided as value-mapping will have precedence in case its length matches with *x* & *y*.  Please use the *color* keyword-argument or provide a 2D array with a single row if you intend to specify the same RGB or RGBA value for all points.\n",
      "*c* argument looks like a single numeric RGB or RGBA sequence, which should be avoided as value-mapping will have precedence in case its length matches with *x* & *y*.  Please use the *color* keyword-argument or provide a 2D array with a single row if you intend to specify the same RGB or RGBA value for all points.\n"
     ]
    },
    {
     "name": "stdout",
     "output_type": "stream",
     "text": [
      "6.05388091473235 48.238905266930416\n"
     ]
    },
    {
     "data": {
      "image/png": "[encoded data removed]",
      "text/plain": [
       "<Figure size 432x288 with 1 Axes>"
      ]
     },
     "metadata": {
      "needs_background": "light"
     },
     "output_type": "display_data"
    }
   ],
   "source": [
    "from matplotlib.colors import ListedColormap\n",
    "X_set, y_set = sc1.inverse_transform(X_test1), y_test1\n",
    "print(X_set[:,0].min(),X_set[:,0].max())\n",
    "X1, X2 = np.meshgrid(np.arange(start = X_set[:, 0].min(), stop = X_set[:, 0].max(), step = 0.25),\n",
    "                     np.arange(start = X_set[:, 1].min(), stop = X_set[:, 1].max(), step = 0.25))\n",
    "plt.contourf(X1, X2, mlp.predict(sc1.transform(np.array([X1.ravel(), X2.ravel()]).T)).reshape(X1.shape),\n",
    "             alpha = 0.75, cmap = ListedColormap(('red', 'green')))\n",
    "plt.xlim(X1.min(), X1.max())\n",
    "plt.ylim(X2.min(), X2.max())\n",
    "for i, j in enumerate(np.unique(y_set)):\n",
    "    plt.scatter(X_set[y_set == j, 0], X_set[y_set == j, 1], c = ListedColormap(('red', 'green'))(i), label = j)\n",
    "plt.title('MLP (Test set)')\n",
    "plt.xlabel('Glucose')\n",
    "plt.ylabel('Insulin')\n",
    "plt.legend()\n",
    "plt.show()"
   ]
  },
  {
   "cell_type": "code",
   "execution_count": 114,
   "id": "5b346aa1",
   "metadata": {},
   "outputs": [
    {
     "name": "stdout",
     "output_type": "stream",
     "text": [
      "[[110  15]\n",
      " [ 22  45]]\n",
      "0.8072916666666666\n",
      "OUTCOME DIABETIC\n",
      "\n",
      "Mis-classification(1-accuracy) 0.19270833333333334\n",
      "sensitivity 0.6716417910447762\n",
      "Specificity(TNR): 0.88\n",
      "precision 0.75\n",
      "f1 score 0.7086614173228347\n",
      "OUTCOME NON DIABETIC\n",
      "Mis-classification(1-accuracy) 0.19270833333333334\n",
      "sensitivity 0.88\n",
      "Specificity(TNR): 0.6716417910447762\n",
      "precision 0.8333333333333334\n",
      "f1 score 0.8560311284046693\n"
     ]
    }
   ],
   "source": [
    "#Trained MLP on all features \n",
    "mlp.fit(X_train,y_train)\n",
    "y_pred=mlp.predict(X_test)\n",
    "cm=confusion_matrix(y_test,y_pred)\n",
    "print(cm)\n",
    "print(accuracy_score(y_test,y_pred))\n",
    "print(\"OUTCOME DIABETIC\\n\")\n",
    "print(\"Mis-classification(1-accuracy)\",(cm[0][1]+cm[1][0])/(cm[0][0]+cm[0][1]+cm[1][0]+cm[1][1]))\n",
    "Sensitivity=cm[1][1]/(cm[1][1]+cm[1][0])\n",
    "print(\"sensitivity\",Sensitivity)\n",
    "print(\"Specificity(TNR):\",cm[0][0]/(cm[0][0]+cm[0][1]))\n",
    "Precision=cm[1][1]/(cm[1][1]+cm[0][1])\n",
    "print(\"precision\",Precision)\n",
    "print(\"f1 score\",2*Precision*Sensitivity/(Precision+Sensitivity))\n",
    "\n",
    "print(\"OUTCOME NON DIABETIC\")\n",
    "print(\"Mis-classification(1-accuracy)\",(cm[0][1]+cm[1][0])/(cm[0][0]+cm[0][1]+cm[1][0]+cm[1][1]))\n",
    "Sensitivity=cm[0][0]/(cm[0][0]+cm[0][1])\n",
    "print(\"sensitivity\",Sensitivity)\n",
    "print(\"Specificity(TNR):\",cm[1][1]/(cm[1][1]+cm[1][0]))\n",
    "Precision=cm[0][0]/(cm[0][0]+cm[1][0])\n",
    "print(\"precision\",Precision)\n",
    "print(\"f1 score\",2*Precision*Sensitivity/(Precision+Sensitivity))\n"
   ]
  },
  {
   "cell_type": "code",
   "execution_count": 115,
   "id": "a1645892",
   "metadata": {},
   "outputs": [
    {
     "name": "stdout",
     "output_type": "stream",
     "text": [
      "Accuracy of MLP in K fold cross validation 76.028433\n",
      "Standard deviation of MLP in K fold cross validation5.181608\n"
     ]
    }
   ],
   "source": [
    "accuracies=cross_val_score(estimator=mlp,X=X_train,y=y_train,cv=10)\n",
    "print(\"Accuracy of MLP in K fold cross validation {:2f}\".format(accuracies.mean()*100))\n",
    "print(\"Standard deviation of MLP in K fold cross validation{:2f}\".format(accuracies.std()*100))"
   ]
  },
  {
   "cell_type": "code",
   "execution_count": null,
   "id": "7f27a0c3",
   "metadata": {},
   "outputs": [],
   "source": [
    "#CNN\n",
    "#cnn=tf.keras.models.Sequential()"
   ]
  },
  {
   "cell_type": "code",
   "execution_count": null,
   "id": "21cbcb93",
   "metadata": {},
   "outputs": [],
   "source": [
    "#cnn.add(tf.keras.layers.Conv2D(filters=32,kernel_size=3,activation='relu',input_shape=[392,8,2]))\n",
    "#cnn.add(tf.keras.layers.MaxPool2D(pool_size=2,strides=2))\n",
    "#second convolutional layer\n",
    "#cnn.add(tf.keras.layers.Conv2D(filters=32,kernel_size=3,activation='relu',input_shape=[392,8,2]))\n",
    "#cnn.add(tf.keras.layers.MaxPool2D(pool_size=2,strides=2))"
   ]
  },
  {
   "cell_type": "code",
   "execution_count": null,
   "id": "9c279aa1",
   "metadata": {},
   "outputs": [],
   "source": [
    "#flattening\n",
    "#cnn.add(tf.keras.layers.Flatten())"
   ]
  },
  {
   "cell_type": "code",
   "execution_count": null,
   "id": "c8a92727",
   "metadata": {},
   "outputs": [],
   "source": [
    "#full connection\n",
    "#cnn.add(tf.keras.layers.Dense(units=128,activation='relu'))"
   ]
  },
  {
   "cell_type": "code",
   "execution_count": null,
   "id": "298e769e",
   "metadata": {},
   "outputs": [],
   "source": [
    "#output layer\n",
    "#cnn.add(tf.keras.layers.Dense(units=1,activation='sigmoid'))"
   ]
  },
  {
   "cell_type": "code",
   "execution_count": null,
   "id": "adbdd0be",
   "metadata": {},
   "outputs": [],
   "source": [
    "#cnn.compile(optimizer='adam',loss='binary_crossentropy',metrics='accuracy')"
   ]
  },
  {
   "cell_type": "code",
   "execution_count": null,
   "id": "75fae752",
   "metadata": {},
   "outputs": [],
   "source": [
    "#cnn.fit(x=tf.data.Dataset.from_tensor_slices(X_train),validation_data=tf.data.Dataset.from_tensor_slices(X_test),epochs=25)"
   ]
  },
  {
   "cell_type": "code",
   "execution_count": null,
   "id": "44f8f4f6",
   "metadata": {},
   "outputs": [],
   "source": []
  }
 ],
 "metadata": {
  "kernelspec": {
   "display_name": "Python 3 (ipykernel)",
   "language": "python",
   "name": "python3"
  },
  "language_info": {
   "codemirror_mode": {
    "name": "ipython",
    "version": 3
   },
   "file_extension": ".py",
   "mimetype": "text/x-python",
   "name": "python",
   "nbconvert_exporter": "python",
   "pygments_lexer": "ipython3",
   "version": "3.9.7"
  }
 },
 "nbformat": 4,
 "nbformat_minor": 5
}
